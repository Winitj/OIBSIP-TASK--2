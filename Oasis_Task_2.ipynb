{
  "nbformat": 4,
  "nbformat_minor": 0,
  "metadata": {
    "colab": {
      "provenance": []
    },
    "kernelspec": {
      "name": "python3",
      "display_name": "Python 3"
    },
    "language_info": {
      "name": "python"
    }
  },
  "cells": [
    {
      "cell_type": "markdown",
      "source": [
        "**Import lib**"
      ],
      "metadata": {
        "id": "s33h78CYt-bE"
      }
    },
    {
      "cell_type": "code",
      "execution_count": null,
      "metadata": {
        "id": "sKHVhAijiu09"
      },
      "outputs": [],
      "source": [
        "import pandas as pd\n",
        "import numpy as np\n",
        "import matplotlib.pyplot as plt"
      ]
    },
    {
      "cell_type": "markdown",
      "source": [
        "**Uplodeing 2 dataset**"
      ],
      "metadata": {
        "id": "sktDP3A-uJwh"
      }
    },
    {
      "cell_type": "code",
      "source": [
        "from google.colab import files\n",
        "files.upload()"
      ],
      "metadata": {
        "colab": {
          "base_uri": "https://localhost:8080/",
          "height": 1000
        },
        "id": "GGe2td3xGHiq",
        "outputId": "78ee47ce-ea4c-4848-884f-f48f21bad215"
      },
      "execution_count": null,
      "outputs": [
        {
          "output_type": "display_data",
          "data": {
            "text/plain": [
              "<IPython.core.display.HTML object>"
            ],
            "text/html": [
              "\n",
              "     <input type=\"file\" id=\"files-8d223ca9-a036-4d23-9d5f-3d8416ee1d8c\" name=\"files[]\" multiple disabled\n",
              "        style=\"border:none\" />\n",
              "     <output id=\"result-8d223ca9-a036-4d23-9d5f-3d8416ee1d8c\">\n",
              "      Upload widget is only available when the cell has been executed in the\n",
              "      current browser session. Please rerun this cell to enable.\n",
              "      </output>\n",
              "      <script>// Copyright 2017 Google LLC\n",
              "//\n",
              "// Licensed under the Apache License, Version 2.0 (the \"License\");\n",
              "// you may not use this file except in compliance with the License.\n",
              "// You may obtain a copy of the License at\n",
              "//\n",
              "//      http://www.apache.org/licenses/LICENSE-2.0\n",
              "//\n",
              "// Unless required by applicable law or agreed to in writing, software\n",
              "// distributed under the License is distributed on an \"AS IS\" BASIS,\n",
              "// WITHOUT WARRANTIES OR CONDITIONS OF ANY KIND, either express or implied.\n",
              "// See the License for the specific language governing permissions and\n",
              "// limitations under the License.\n",
              "\n",
              "/**\n",
              " * @fileoverview Helpers for google.colab Python module.\n",
              " */\n",
              "(function(scope) {\n",
              "function span(text, styleAttributes = {}) {\n",
              "  const element = document.createElement('span');\n",
              "  element.textContent = text;\n",
              "  for (const key of Object.keys(styleAttributes)) {\n",
              "    element.style[key] = styleAttributes[key];\n",
              "  }\n",
              "  return element;\n",
              "}\n",
              "\n",
              "// Max number of bytes which will be uploaded at a time.\n",
              "const MAX_PAYLOAD_SIZE = 100 * 1024;\n",
              "\n",
              "function _uploadFiles(inputId, outputId) {\n",
              "  const steps = uploadFilesStep(inputId, outputId);\n",
              "  const outputElement = document.getElementById(outputId);\n",
              "  // Cache steps on the outputElement to make it available for the next call\n",
              "  // to uploadFilesContinue from Python.\n",
              "  outputElement.steps = steps;\n",
              "\n",
              "  return _uploadFilesContinue(outputId);\n",
              "}\n",
              "\n",
              "// This is roughly an async generator (not supported in the browser yet),\n",
              "// where there are multiple asynchronous steps and the Python side is going\n",
              "// to poll for completion of each step.\n",
              "// This uses a Promise to block the python side on completion of each step,\n",
              "// then passes the result of the previous step as the input to the next step.\n",
              "function _uploadFilesContinue(outputId) {\n",
              "  const outputElement = document.getElementById(outputId);\n",
              "  const steps = outputElement.steps;\n",
              "\n",
              "  const next = steps.next(outputElement.lastPromiseValue);\n",
              "  return Promise.resolve(next.value.promise).then((value) => {\n",
              "    // Cache the last promise value to make it available to the next\n",
              "    // step of the generator.\n",
              "    outputElement.lastPromiseValue = value;\n",
              "    return next.value.response;\n",
              "  });\n",
              "}\n",
              "\n",
              "/**\n",
              " * Generator function which is called between each async step of the upload\n",
              " * process.\n",
              " * @param {string} inputId Element ID of the input file picker element.\n",
              " * @param {string} outputId Element ID of the output display.\n",
              " * @return {!Iterable<!Object>} Iterable of next steps.\n",
              " */\n",
              "function* uploadFilesStep(inputId, outputId) {\n",
              "  const inputElement = document.getElementById(inputId);\n",
              "  inputElement.disabled = false;\n",
              "\n",
              "  const outputElement = document.getElementById(outputId);\n",
              "  outputElement.innerHTML = '';\n",
              "\n",
              "  const pickedPromise = new Promise((resolve) => {\n",
              "    inputElement.addEventListener('change', (e) => {\n",
              "      resolve(e.target.files);\n",
              "    });\n",
              "  });\n",
              "\n",
              "  const cancel = document.createElement('button');\n",
              "  inputElement.parentElement.appendChild(cancel);\n",
              "  cancel.textContent = 'Cancel upload';\n",
              "  const cancelPromise = new Promise((resolve) => {\n",
              "    cancel.onclick = () => {\n",
              "      resolve(null);\n",
              "    };\n",
              "  });\n",
              "\n",
              "  // Wait for the user to pick the files.\n",
              "  const files = yield {\n",
              "    promise: Promise.race([pickedPromise, cancelPromise]),\n",
              "    response: {\n",
              "      action: 'starting',\n",
              "    }\n",
              "  };\n",
              "\n",
              "  cancel.remove();\n",
              "\n",
              "  // Disable the input element since further picks are not allowed.\n",
              "  inputElement.disabled = true;\n",
              "\n",
              "  if (!files) {\n",
              "    return {\n",
              "      response: {\n",
              "        action: 'complete',\n",
              "      }\n",
              "    };\n",
              "  }\n",
              "\n",
              "  for (const file of files) {\n",
              "    const li = document.createElement('li');\n",
              "    li.append(span(file.name, {fontWeight: 'bold'}));\n",
              "    li.append(span(\n",
              "        `(${file.type || 'n/a'}) - ${file.size} bytes, ` +\n",
              "        `last modified: ${\n",
              "            file.lastModifiedDate ? file.lastModifiedDate.toLocaleDateString() :\n",
              "                                    'n/a'} - `));\n",
              "    const percent = span('0% done');\n",
              "    li.appendChild(percent);\n",
              "\n",
              "    outputElement.appendChild(li);\n",
              "\n",
              "    const fileDataPromise = new Promise((resolve) => {\n",
              "      const reader = new FileReader();\n",
              "      reader.onload = (e) => {\n",
              "        resolve(e.target.result);\n",
              "      };\n",
              "      reader.readAsArrayBuffer(file);\n",
              "    });\n",
              "    // Wait for the data to be ready.\n",
              "    let fileData = yield {\n",
              "      promise: fileDataPromise,\n",
              "      response: {\n",
              "        action: 'continue',\n",
              "      }\n",
              "    };\n",
              "\n",
              "    // Use a chunked sending to avoid message size limits. See b/62115660.\n",
              "    let position = 0;\n",
              "    do {\n",
              "      const length = Math.min(fileData.byteLength - position, MAX_PAYLOAD_SIZE);\n",
              "      const chunk = new Uint8Array(fileData, position, length);\n",
              "      position += length;\n",
              "\n",
              "      const base64 = btoa(String.fromCharCode.apply(null, chunk));\n",
              "      yield {\n",
              "        response: {\n",
              "          action: 'append',\n",
              "          file: file.name,\n",
              "          data: base64,\n",
              "        },\n",
              "      };\n",
              "\n",
              "      let percentDone = fileData.byteLength === 0 ?\n",
              "          100 :\n",
              "          Math.round((position / fileData.byteLength) * 100);\n",
              "      percent.textContent = `${percentDone}% done`;\n",
              "\n",
              "    } while (position < fileData.byteLength);\n",
              "  }\n",
              "\n",
              "  // All done.\n",
              "  yield {\n",
              "    response: {\n",
              "      action: 'complete',\n",
              "    }\n",
              "  };\n",
              "}\n",
              "\n",
              "scope.google = scope.google || {};\n",
              "scope.google.colab = scope.google.colab || {};\n",
              "scope.google.colab._files = {\n",
              "  _uploadFiles,\n",
              "  _uploadFilesContinue,\n",
              "};\n",
              "})(self);\n",
              "</script> "
            ]
          },
          "metadata": {}
        },
        {
          "output_type": "stream",
          "name": "stdout",
          "text": [
            "Saving Unemployment in India.csv to Unemployment in India (1).csv\n",
            "Saving Unemployment_Rate_upto_11_2020.csv to Unemployment_Rate_upto_11_2020.csv\n"
          ]
        },
        {
          "output_type": "execute_result",
          "data": {
            "text/plain": [
              "{'Unemployment in India.csv': b'\\xef\\xbb\\xbfRegion, Date, Frequency, Estimated Unemployment Rate (%), Estimated Employed, Estimated Labour Participation Rate (%),Area\\r\\nAndhra Pradesh, 31-05-2019, Monthly, 3.65, 11999139.00, 43.24,Rural\\r\\nAndhra Pradesh, 30-06-2019, Monthly, 3.05, 11755881.00, 42.05,Rural\\r\\nAndhra Pradesh, 31-07-2019, Monthly, 3.75, 12086707.00, 43.50,Rural\\r\\nAndhra Pradesh, 31-08-2019, Monthly, 3.32, 12285693.00, 43.97,Rural\\r\\nAndhra Pradesh, 30-09-2019, Monthly, 5.17, 12256762.00, 44.68,Rural\\r\\nAndhra Pradesh, 31-10-2019, Monthly, 3.52, 12017412.00, 43.01,Rural\\r\\nAndhra Pradesh, 30-11-2019, Monthly, 4.12, 11397681.00, 41.00,Rural\\r\\nAndhra Pradesh, 31-12-2019, Monthly, 4.38, 12528395.00, 45.14,Rural\\r\\nAndhra Pradesh, 31-01-2020, Monthly, 4.84, 12016676.00, 43.46,Rural\\r\\nAndhra Pradesh, 29-02-2020, Monthly, 5.91, 11723617.00, 42.83,Rural\\r\\nAndhra Pradesh, 31-03-2020, Monthly, 4.06, 11359660.00, 40.66,Rural\\r\\nAndhra Pradesh, 30-04-2020, Monthly, 16.29, 8792827.00, 36.03,Rural\\r\\nAndhra Pradesh, 31-05-2020, Monthly, 14.46, 9526902.00, 38.16,Rural\\r\\nAndhra Pradesh, 30-06-2020, Monthly, 0.85, 15572975.00, 53.76,Rural\\r\\nAssam, 31-05-2019, Monthly, 4.29, 11749334.00, 57.39,Rural\\r\\nAssam, 30-06-2019, Monthly, 5.08, 8923222.00, 43.87,Rural\\r\\nAssam, 31-07-2019, Monthly, 4.26, 9911534.00, 48.21,Rural\\r\\nAssam, 31-08-2019, Monthly, 5.79, 9292039.00, 45.83,Rural\\r\\nAssam, 30-09-2019, Monthly, 4.46, 11468349.00, 55.67,Rural\\r\\nAssam, 31-10-2019, Monthly, 4.65, 8395906.00, 40.76,Rural\\r\\nAssam, 30-11-2019, Monthly, 4.66, 9625362.00, 46.64,Rural\\r\\nAssam, 31-01-2020, Monthly, 4.29, 11420996.00, 54.90,Rural\\r\\nAssam, 29-02-2020, Monthly, 3.26, 8462814.00, 40.17,Rural\\r\\nAssam, 31-03-2020, Monthly, 3.77, 9878742.00, 47.05,Rural\\r\\nAssam, 31-05-2020, Monthly, 9.38, 9926176.00, 50.00,Rural\\r\\nAssam, 30-06-2020, Monthly, 0.00, 7544937.00, 34.38,Rural\\r\\nBihar, 31-05-2019, Monthly, 9.27, 24322330.00, 39.75,Rural\\r\\nBihar, 30-06-2019, Monthly, 10.20, 24097712.00, 39.71,Rural\\r\\nBihar, 31-07-2019, Monthly, 13.44, 23248875.00, 39.66,Rural\\r\\nBihar, 31-08-2019, Monthly, 11.00, 22260203.00, 36.85,Rural\\r\\nBihar, 30-09-2019, Monthly, 8.87, 23905700.00, 38.57,Rural\\r\\nBihar, 31-10-2019, Monthly, 12.47, 24053140.00, 40.31,Rural\\r\\nBihar, 30-11-2019, Monthly, 12.40, 22445989.00, 37.51,Rural\\r\\nBihar, 31-12-2019, Monthly, 10.16, 22914530.00, 37.25,Rural\\r\\nBihar, 31-01-2020, Monthly, 9.13, 23409006.00, 37.54,Rural\\r\\nBihar, 29-02-2020, Monthly, 9.61, 23168192.00, 37.28,Rural\\r\\nBihar, 31-03-2020, Monthly, 15.39, 22667882.00, 38.88,Rural\\r\\nBihar, 30-04-2020, Monthly, 45.09, 14645275.00, 38.63,Rural\\r\\nBihar, 31-05-2020, Monthly, 47.26, 14050319.00, 38.50,Rural\\r\\nBihar, 30-06-2020, Monthly, 20.49, 20622566.00, 37.40,Rural\\r\\nChhattisgarh, 31-05-2019, Monthly, 9.82, 6259019.00, 42.89,Rural\\r\\nChhattisgarh, 30-06-2019, Monthly, 6.76, 6608626.00, 43.71,Rural\\r\\nChhattisgarh, 31-07-2019, Monthly, 4.54, 6753622.00, 43.53,Rural\\r\\nChhattisgarh, 31-08-2019, Monthly, 4.64, 6607694.00, 42.55,Rural\\r\\nChhattisgarh, 30-09-2019, Monthly, 8.33, 6490776.00, 43.38,Rural\\r\\nChhattisgarh, 31-10-2019, Monthly, 6.96, 7043840.00, 46.28,Rural\\r\\nChhattisgarh, 30-11-2019, Monthly, 2.77, 6942931.00, 43.56,Rural\\r\\nChhattisgarh, 31-12-2019, Monthly, 6.11, 6569385.00, 42.59,Rural\\r\\nChhattisgarh, 31-01-2020, Monthly, 9.89, 6236201.00, 42.03,Rural\\r\\nChhattisgarh, 29-02-2020, Monthly, 7.89, 6847173.00, 45.05,Rural\\r\\nChhattisgarh, 31-03-2020, Monthly, 7.31, 6894808.00, 44.98,Rural\\r\\nChhattisgarh, 30-04-2020, Monthly, 0.00, 6534321.00, 39.43,Rural\\r\\nChhattisgarh, 31-05-2020, Monthly, 7.64, 5454091.00, 35.56,Rural\\r\\nChhattisgarh, 30-06-2020, Monthly, 10.14, 5781095.00, 38.66,Rural\\r\\nDelhi, 31-05-2019, Monthly, 12.56, 169487.00, 42.33,Rural\\r\\nDelhi, 30-06-2019, Monthly, 9.33, 149076.00, 35.74,Rural\\r\\nDelhi, 31-07-2019, Monthly, 11.07, 166605.00, 40.53,Rural\\r\\nDelhi, 31-08-2019, Monthly, 17.18, 135407.00, 35.21,Rural\\r\\nDelhi, 30-09-2019, Monthly, 12.50, 166056.00, 40.68,Rural\\r\\nDelhi, 31-10-2019, Monthly, 15.84, 149511.00, 37.90,Rural\\r\\nDelhi, 30-11-2019, Monthly, 11.11, 178768.00, 42.71,Rural\\r\\nDelhi, 31-12-2019, Monthly, 16.97, 145671.00, 37.08,Rural\\r\\nDelhi, 31-01-2020, Monthly, 13.48, 157791.00, 38.36,Rural\\r\\nDelhi, 29-02-2020, Monthly, 13.81, 147500.00, 35.84,Rural\\r\\nDelhi, 31-03-2020, Monthly, 15.18, 152413.00, 37.45,Rural\\r\\nDelhi, 30-04-2020, Monthly, 20.69, 115487.00, 30.21,Rural\\r\\nDelhi, 31-05-2020, Monthly, 22.76, 129610.00, 34.65,Rural\\r\\nDelhi, 30-06-2020, Monthly, 21.14, 112108.00, 29.22,Rural\\r\\nGoa, 31-05-2019, Monthly, 2.91, 179340.00, 39.16,Rural\\r\\nGoa, 30-06-2019, Monthly, 5.45, 170471.00, 38.19,Rural\\r\\nGoa, 31-07-2019, Monthly, 10.98, 167437.00, 39.81,Rural\\r\\nGoa, 31-08-2019, Monthly, 1.98, 183603.00, 39.61,Rural\\r\\nGoa, 30-09-2019, Monthly, 3.61, 163215.00, 35.78,Rural\\r\\nGoa, 31-10-2019, Monthly, 7.21, 177440.00, 40.36,Rural\\r\\nGoa, 30-11-2019, Monthly, 23.71, 159489.00, 44.09,Rural\\r\\nGoa, 31-12-2019, Monthly, 3.54, 177155.00, 38.70,Rural\\r\\nGoa, 31-01-2020, Monthly, 5.38, 158936.00, 35.36,Rural\\r\\nGoa, 29-02-2020, Monthly, 0.00, 171672.00, 36.11,Rural\\r\\nGoa, 30-04-2020, Monthly, 15.91, 181657.00, 45.36,Rural\\r\\nGoa, 31-05-2020, Monthly, 20.00, 128538.00, 33.71,Rural\\r\\nGujarat, 31-05-2019, Monthly, 2.88, 13954728.00, 52.03,Rural\\r\\nGujarat, 30-06-2019, Monthly, 4.77, 13199281.00, 50.12,Rural\\r\\nGujarat, 31-07-2019, Monthly, 4.58, 14327083.00, 54.21,Rural\\r\\nGujarat, 31-08-2019, Monthly, 3.70, 13507342.00, 50.57,Rural\\r\\nGujarat, 30-09-2019, Monthly, 6.29, 13280783.00, 51.01,Rural\\r\\nGujarat, 31-10-2019, Monthly, 4.91, 13828512.00, 52.27,Rural\\r\\nGujarat, 30-11-2019, Monthly, 4.68, 14487815.00, 54.55,Rural\\r\\nGujarat, 31-12-2019, Monthly, 3.46, 13877825.00, 51.51,Rural\\r\\nGujarat, 31-01-2020, Monthly, 5.35, 14301844.00, 54.07,Rural\\r\\nGujarat, 29-02-2020, Monthly, 6.64, 13973042.00, 53.48,Rural\\r\\nGujarat, 31-03-2020, Monthly, 7.59, 13483615.00, 52.06,Rural\\r\\nGujarat, 30-04-2020, Monthly, 12.00, 8587594.00, 34.77,Rural\\r\\nGujarat, 31-05-2020, Monthly, 14.58, 11121124.00, 46.31,Rural\\r\\nGujarat, 30-06-2020, Monthly, 1.41, 13243922.00, 47.72,Rural\\r\\nHaryana, 31-05-2019, Monthly, 14.54, 5249186.00, 45.12,Rural\\r\\nHaryana, 30-06-2019, Monthly, 23.08, 4745178.00, 45.23,Rural\\r\\nHaryana, 31-07-2019, Monthly, 16.22, 4826560.00, 42.17,Rural\\r\\nHaryana, 31-08-2019, Monthly, 30.94, 4558306.00, 48.23,Rural\\r\\nHaryana, 30-09-2019, Monthly, 16.36, 5127956.00, 44.72,Rural\\r\\nHaryana, 31-10-2019, Monthly, 24.17, 4798833.00, 46.07,Rural\\r\\nHaryana, 30-11-2019, Monthly, 16.59, 4875763.00, 42.48,Rural\\r\\nHaryana, 31-12-2019, Monthly, 29.56, 4603484.00, 47.40,Rural\\r\\nHaryana, 31-01-2020, Monthly, 16.21, 5062293.00, 43.74,Rural\\r\\nHaryana, 29-02-2020, Monthly, 27.19, 4570108.00, 45.37,Rural\\r\\nHaryana, 31-03-2020, Monthly, 23.92, 4366148.00, 41.40,Rural\\r\\nHaryana, 30-04-2020, Monthly, 41.61, 4041050.00, 49.85,Rural\\r\\nHaryana, 31-05-2020, Monthly, 34.22, 3914193.00, 42.78,Rural\\r\\nHaryana, 30-06-2020, Monthly, 35.57, 4357835.00, 48.53,Rural\\r\\nHimachal Pradesh, 31-05-2019, Monthly, 13.68, 2045760.00, 44.23,Rural\\r\\nHimachal Pradesh, 30-06-2019, Monthly, 11.43, 1957081.00, 41.18,Rural\\r\\nHimachal Pradesh, 31-07-2019, Monthly, 20.59, 1916824.00, 44.91,Rural\\r\\nHimachal Pradesh, 31-08-2019, Monthly, 18.56, 1969248.00, 44.91,Rural\\r\\nHimachal Pradesh, 30-09-2019, Monthly, 15.98, 2039804.00, 45.02,Rural\\r\\nHimachal Pradesh, 31-10-2019, Monthly, 15.81, 1946957.00, 42.81,Rural\\r\\nHimachal Pradesh, 30-11-2019, Monthly, 22.86, 2024409.00, 48.50,Rural\\r\\nHimachal Pradesh, 31-12-2019, Monthly, 19.46, 1922821.00, 44.05,Rural\\r\\nHimachal Pradesh, 31-01-2020, Monthly, 16.67, 2041035.00, 45.11,Rural\\r\\nHimachal Pradesh, 29-02-2020, Monthly, 15.42, 1952464.00, 42.45,Rural\\r\\nHimachal Pradesh, 31-03-2020, Monthly, 17.71, 1800426.00, 40.17,Rural\\r\\nHimachal Pradesh, 30-04-2020, Monthly, 2.13, 984171.00, 18.43,Rural\\r\\nHimachal Pradesh, 31-05-2020, Monthly, 25.64, 1732050.00, 42.62,Rural\\r\\nHimachal Pradesh, 30-06-2020, Monthly, 1.12, 2230075.00, 41.20,Rural\\r\\nJammu & Kashmir, 31-05-2019, Monthly, 12.78, 2495186.00, 40.57,Rural\\r\\nJammu & Kashmir, 30-06-2019, Monthly, 12.09, 2423742.00, 39.02,Rural\\r\\nJammu & Kashmir, 31-07-2019, Monthly, 13.67, 2549316.00, 41.71,Rural\\r\\nJammu & Kashmir, 31-08-2019, Monthly, 11.32, 2778624.00, 44.17,Rural\\r\\nJammu & Kashmir, 31-10-2019, Monthly, 19.27, 2477621.00, 43.08,Rural\\r\\nJammu & Kashmir, 30-11-2019, Monthly, 14.73, 2415724.00, 39.69,Rural\\r\\nJammu & Kashmir, 31-01-2020, Monthly, 22.19, 2373488.00, 42.56,Rural\\r\\nJammu & Kashmir, 29-02-2020, Monthly, 21.23, 2163397.00, 38.25,Rural\\r\\nJammu & Kashmir, 31-03-2020, Monthly, 16.00, 2361004.00, 39.06,Rural\\r\\nJammu & Kashmir, 31-05-2020, Monthly, 2.22, 2716966.00, 38.46,Rural\\r\\nJammu & Kashmir, 30-06-2020, Monthly, 18.97, 2049617.00, 34.94,Rural\\r\\nJharkhand, 31-05-2019, Monthly, 7.11, 7035766.00, 39.04,Rural\\r\\nJharkhand, 30-06-2019, Monthly, 8.46, 7319782.00, 41.12,Rural\\r\\nJharkhand, 31-07-2019, Monthly, 9.98, 6958404.00, 39.66,Rural\\r\\nJharkhand, 31-08-2019, Monthly, 12.06, 7015356.00, 40.83,Rural\\r\\nJharkhand, 30-09-2019, Monthly, 7.12, 7500122.00, 41.24,Rural\\r\\nJharkhand, 31-10-2019, Monthly, 6.57, 7761243.00, 42.33,Rural\\r\\nJharkhand, 30-11-2019, Monthly, 8.07, 7279628.00, 40.26,Rural\\r\\nJharkhand, 31-12-2019, Monthly, 15.15, 6873437.00, 41.09,Rural\\r\\nJharkhand, 31-01-2020, Monthly, 6.16, 7868736.00, 42.43,Rural\\r\\nJharkhand, 29-02-2020, Monthly, 9.06, 7932402.00, 44.05,Rural\\r\\nJharkhand, 31-03-2020, Monthly, 5.01, 7157454.00, 37.96,Rural\\r\\nJharkhand, 30-04-2020, Monthly, 41.72, 4280434.00, 36.92,Rural\\r\\nJharkhand, 31-05-2020, Monthly, 55.10, 3315038.00, 37.03,Rural\\r\\nJharkhand, 30-06-2020, Monthly, 21.53, 6375114.00, 40.65,Rural\\r\\nKarnataka, 31-05-2019, Monthly, 5.46, 13911440.00, 46.36,Rural\\r\\nKarnataka, 30-06-2019, Monthly, 5.98, 12888490.00, 43.12,Rural\\r\\nKarnataka, 31-07-2019, Monthly, 0.52, 12169808.00, 38.42,Rural\\r\\nKarnataka, 31-08-2019, Monthly, 0.37, 12686470.00, 39.93,Rural\\r\\nKarnataka, 30-09-2019, Monthly, 3.20, 13741892.00, 44.45,Rural\\r\\nKarnataka, 31-10-2019, Monthly, 7.13, 12803527.00, 43.10,Rural\\r\\nKarnataka, 30-11-2019, Monthly, 1.19, 11537217.00, 36.45,Rural\\r\\nKarnataka, 31-12-2019, Monthly, 0.41, 12756132.00, 39.92,Rural\\r\\nKarnataka, 31-01-2020, Monthly, 2.57, 13938874.00, 44.52,Rural\\r\\nKarnataka, 29-02-2020, Monthly, 4.11, 12753657.00, 41.33,Rural\\r\\nKarnataka, 31-03-2020, Monthly, 2.39, 12853818.00, 40.85,Rural\\r\\nKarnataka, 30-04-2020, Monthly, 33.17, 9330400.00, 43.25,Rural\\r\\nKarnataka, 31-05-2020, Monthly, 23.72, 10626328.00, 43.09,Rural\\r\\nKarnataka, 30-06-2020, Monthly, 10.92, 15396213.00, 53.37,Rural\\r\\nKerala, 31-05-2019, Monthly, 6.63, 5184355.00, 38.07,Rural\\r\\nKerala, 30-06-2019, Monthly, 9.00, 5605627.00, 42.19,Rural\\r\\nKerala, 31-07-2019, Monthly, 4.95, 4855393.00, 34.96,Rural\\r\\nKerala, 31-08-2019, Monthly, 10.32, 5233449.00, 39.90,Rural\\r\\nKerala, 30-09-2019, Monthly, 5.35, 5400499.00, 38.97,Rural\\r\\nKerala, 31-10-2019, Monthly, 9.14, 5328825.00, 40.02,Rural\\r\\nKerala, 30-11-2019, Monthly, 5.00, 4557906.00, 32.71,Rural\\r\\nKerala, 31-12-2019, Monthly, 10.77, 5065804.00, 38.67,Rural\\r\\nKerala, 31-01-2020, Monthly, 4.11, 5307026.00, 37.66,Rural\\r\\nKerala, 29-02-2020, Monthly, 8.91, 5203579.00, 38.84,Rural\\r\\nKerala, 31-03-2020, Monthly, 8.85, 4141953.00, 30.87,Rural\\r\\nKerala, 30-04-2020, Monthly, 10.71, 1754170.00, 13.33,Rural\\r\\nKerala, 31-05-2020, Monthly, 23.38, 3799919.00, 33.62,Rural\\r\\nKerala, 30-06-2020, Monthly, 27.66, 3952088.00, 37.01,Rural\\r\\nMadhya Pradesh, 31-05-2019, Monthly, 3.63, 15349838.00, 37.97,Rural\\r\\nMadhya Pradesh, 30-06-2019, Monthly, 4.25, 16294794.00, 40.48,Rural\\r\\nMadhya Pradesh, 31-07-2019, Monthly, 3.92, 16274707.00, 40.20,Rural\\r\\nMadhya Pradesh, 31-08-2019, Monthly, 4.94, 16559137.00, 41.25,Rural\\r\\nMadhya Pradesh, 30-09-2019, Monthly, 3.08, 16159315.00, 39.40,Rural\\r\\nMadhya Pradesh, 31-10-2019, Monthly, 2.98, 17060638.00, 41.46,Rural\\r\\nMadhya Pradesh, 30-11-2019, Monthly, 2.72, 16306428.00, 39.44,Rural\\r\\nMadhya Pradesh, 31-12-2019, Monthly, 2.94, 16854647.00, 40.77,Rural\\r\\nMadhya Pradesh, 31-01-2020, Monthly, 3.66, 16183702.00, 39.35,Rural\\r\\nMadhya Pradesh, 29-02-2020, Monthly, 4.42, 16178044.00, 39.57,Rural\\r\\nMadhya Pradesh, 31-03-2020, Monthly, 1.19, 16480441.00, 38.90,Rural\\r\\nMadhya Pradesh, 30-04-2020, Monthly, 12.50, 14238959.00, 37.88,Rural\\r\\nMadhya Pradesh, 31-05-2020, Monthly, 22.46, 13099601.00, 39.24,Rural\\r\\nMadhya Pradesh, 30-06-2020, Monthly, 6.46, 16748971.00, 41.50,Rural\\r\\nMaharashtra, 31-05-2019, Monthly, 3.67, 23896858.00, 47.11,Rural\\r\\nMaharashtra, 30-06-2019, Monthly, 4.34, 23056511.00, 45.69,Rural\\r\\nMaharashtra, 31-07-2019, Monthly, 3.66, 24843750.00, 48.80,Rural\\r\\nMaharashtra, 31-08-2019, Monthly, 3.76, 26835389.00, 52.67,Rural\\r\\nMaharashtra, 30-09-2019, Monthly, 4.40, 25219281.00, 49.74,Rural\\r\\nMaharashtra, 31-10-2019, Monthly, 3.81, 24330249.00, 47.61,Rural\\r\\nMaharashtra, 30-11-2019, Monthly, 3.68, 24881383.00, 48.53,Rural\\r\\nMaharashtra, 31-12-2019, Monthly, 3.03, 26357625.00, 50.98,Rural\\r\\nMaharashtra, 31-01-2020, Monthly, 3.80, 25881398.00, 50.36,Rural\\r\\nMaharashtra, 29-02-2020, Monthly, 4.24, 25293535.00, 49.36,Rural\\r\\nMaharashtra, 31-03-2020, Monthly, 5.38, 23130976.00, 45.60,Rural\\r\\nMaharashtra, 30-04-2020, Monthly, 25.28, 15014802.00, 37.42,Rural\\r\\nMaharashtra, 31-05-2020, Monthly, 16.89, 18423447.00, 41.21,Rural\\r\\nMaharashtra, 30-06-2020, Monthly, 9.40, 23601016.00, 48.34,Rural\\r\\nMeghalaya, 31-05-2019, Monthly, 3.16, 1119011.00, 66.13,Rural\\r\\nMeghalaya, 30-06-2019, Monthly, 4.23, 1024797.00, 61.09,Rural\\r\\nMeghalaya, 31-07-2019, Monthly, 1.03, 1158511.00, 66.67,Rural\\r\\nMeghalaya, 31-08-2019, Monthly, 0.52, 1065725.00, 60.86,Rural\\r\\nMeghalaya, 30-09-2019, Monthly, 0.24, 1162159.00, 66.02,Rural\\r\\nMeghalaya, 31-10-2019, Monthly, 3.70, 1080609.00, 63.44,Rural\\r\\nMeghalaya, 30-11-2019, Monthly, 1.50, 1205703.00, 69.03,Rural\\r\\nMeghalaya, 31-12-2019, Monthly, 1.80, 1102997.00, 63.18,Rural\\r\\nMeghalaya, 31-01-2020, Monthly, 0.97, 1229406.00, 69.66,Rural\\r\\nMeghalaya, 29-02-2020, Monthly, 2.76, 1112864.00, 64.06,Rural\\r\\nMeghalaya, 31-03-2020, Monthly, 1.28, 1192616.00, 67.46,Rural\\r\\nMeghalaya, 30-04-2020, Monthly, 8.38, 803118.00, 48.83,Rural\\r\\nMeghalaya, 31-05-2020, Monthly, 3.73, 992148.00, 57.26,Rural\\r\\nMeghalaya, 30-06-2020, Monthly, 1.35, 1150200.00, 64.63,Rural\\r\\nOdisha, 31-05-2019, Monthly, 4.17, 11155753.00, 40.47,Rural\\r\\nOdisha, 30-06-2019, Monthly, 4.71, 10965154.00, 39.94,Rural\\r\\nOdisha, 31-07-2019, Monthly, 3.31, 12009883.00, 43.05,Rural\\r\\nOdisha, 31-08-2019, Monthly, 3.68, 11727659.00, 42.13,Rural\\r\\nOdisha, 30-09-2019, Monthly, 4.31, 11167715.00, 40.32,Rural\\r\\nOdisha, 31-10-2019, Monthly, 4.28, 11621534.00, 41.88,Rural\\r\\nOdisha, 30-11-2019, Monthly, 4.72, 12192623.00, 44.06,Rural\\r\\nOdisha, 31-12-2019, Monthly, 4.67, 11345069.00, 40.91,Rural\\r\\nOdisha, 31-01-2020, Monthly, 1.81, 11182128.00, 39.09,Rural\\r\\nOdisha, 29-02-2020, Monthly, 3.31, 11842655.00, 41.98,Rural\\r\\nOdisha, 31-03-2020, Monthly, 15.09, 9814156.00, 39.55,Rural\\r\\nOdisha, 30-04-2020, Monthly, 24.48, 5562449.00, 25.16,Rural\\r\\nOdisha, 31-05-2020, Monthly, 9.45, 9683719.00, 36.48,Rural\\r\\nOdisha, 30-06-2020, Monthly, 4.59, 10187145.00, 36.36,Rural\\r\\nPuducherry, 31-05-2019, Monthly, 0.00, 172474.00, 43.08,Rural\\r\\nPuducherry, 30-06-2019, Monthly, 0.00, 184527.00, 45.95,Rural\\r\\nPuducherry, 31-07-2019, Monthly, 0.00, 139227.00, 34.56,Rural\\r\\nPuducherry, 31-08-2019, Monthly, 4.85, 183930.00, 47.83,Rural\\r\\nPuducherry, 30-09-2019, Monthly, 0.00, 175718.00, 43.34,Rural\\r\\nPuducherry, 31-10-2019, Monthly, 1.18, 180283.00, 44.85,Rural\\r\\nPuducherry, 30-11-2019, Monthly, 0.00, 142787.00, 35.00,Rural\\r\\nPuducherry, 31-12-2019, Monthly, 1.99, 180808.00, 45.07,Rural\\r\\nPuducherry, 31-01-2020, Monthly, 0.58, 176252.00, 43.18,Rural\\r\\nPuducherry, 29-02-2020, Monthly, 1.74, 183619.00, 45.38,Rural\\r\\nPuducherry, 31-03-2020, Monthly, 2.31, 142176.00, 35.23,Rural\\r\\nPuducherry, 30-04-2020, Monthly, 74.51, 49420.00, 46.79,Rural\\r\\nPunjab, 31-05-2019, Monthly, 9.17, 6088547.00, 44.79,Rural\\r\\nPunjab, 30-06-2019, Monthly, 12.21, 6025235.00, 45.79,Rural\\r\\nPunjab, 31-07-2019, Monthly, 9.64, 6308129.00, 46.50,Rural\\r\\nPunjab, 31-08-2019, Monthly, 6.69, 6183427.00, 44.08,Rural\\r\\nPunjab, 30-09-2019, Monthly, 8.59, 6260971.00, 45.49,Rural\\r\\nPunjab, 31-10-2019, Monthly, 12.56, 6021921.00, 45.66,Rural\\r\\nPunjab, 30-11-2019, Monthly, 7.07, 6395022.00, 45.55,Rural\\r\\nPunjab, 31-12-2019, Monthly, 6.13, 6164215.00, 43.40,Rural\\r\\nPunjab, 31-01-2020, Monthly, 9.69, 6189471.00, 45.22,Rural\\r\\nPunjab, 29-02-2020, Monthly, 10.41, 6009820.00, 44.19,Rural\\r\\nPunjab, 31-03-2020, Monthly, 10.51, 6373692.00, 46.85,Rural\\r\\nPunjab, 30-04-2020, Monthly, 3.69, 4721590.00, 32.20,Rural\\r\\nPunjab, 31-05-2020, Monthly, 40.59, 3727366.00, 41.14,Rural\\r\\nPunjab, 30-06-2020, Monthly, 20.00, 5364047.00, 43.90,Rural\\r\\nRajasthan, 31-05-2019, Monthly, 4.03, 15226005.00, 38.52,Rural\\r\\nRajasthan, 30-06-2019, Monthly, 13.70, 14610564.00, 41.02,Rural\\r\\nRajasthan, 31-07-2019, Monthly, 9.70, 14859873.00, 39.78,Rural\\r\\nRajasthan, 31-08-2019, Monthly, 12.50, 15052051.00, 41.48,Rural\\r\\nRajasthan, 30-09-2019, Monthly, 5.45, 15419779.00, 39.24,Rural\\r\\nRajasthan, 31-10-2019, Monthly, 14.66, 15178544.00, 42.69,Rural\\r\\nRajasthan, 30-11-2019, Monthly, 10.47, 15278556.00, 40.87,Rural\\r\\nRajasthan, 31-12-2019, Monthly, 13.96, 15485307.00, 43.00,Rural\\r\\nRajasthan, 31-01-2020, Monthly, 8.00, 15484353.00, 40.12,Rural\\r\\nRajasthan, 29-02-2020, Monthly, 14.48, 15040572.00, 41.83,Rural\\r\\nRajasthan, 31-03-2020, Monthly, 9.47, 15059769.00, 39.47,Rural\\r\\nRajasthan, 30-04-2020, Monthly, 12.25, 13051219.00, 35.21,Rural\\r\\nRajasthan, 31-05-2020, Monthly, 10.45, 15586833.00, 41.11,Rural\\r\\nRajasthan, 30-06-2020, Monthly, 13.86, 16076978.00, 43.98,Rural\\r\\nSikkim, 31-10-2019, Monthly, 5.48, 146688.00, 44.06,Rural\\r\\nSikkim, 30-11-2019, Monthly, 13.11, 162426.00, 53.04,Rural\\r\\nSikkim, 31-12-2019, Monthly, 1.00, 161647.00, 46.30,Rural\\r\\nSikkim, 30-04-2020, Monthly, 0.00, 133399.00, 37.72,Rural\\r\\nSikkim, 30-06-2020, Monthly, 5.81, 141313.00, 42.36,Rural\\r\\nTamil Nadu, 31-05-2019, Monthly, 0.97, 15844698.00, 49.44,Rural\\r\\nTamil Nadu, 30-06-2019, Monthly, 0.92, 16375303.00, 50.99,Rural\\r\\nTamil Nadu, 31-07-2019, Monthly, 6.01, 16455928.00, 53.94,Rural\\r\\nTamil Nadu, 31-08-2019, Monthly, 2.91, 16463931.00, 52.17,Rural\\r\\nTamil Nadu, 30-09-2019, Monthly, 1.71, 14595441.00, 45.62,Rural\\r\\nTamil Nadu, 31-10-2019, Monthly, 1.46, 15595647.00, 48.55,Rural\\r\\nTamil Nadu, 30-11-2019, Monthly, 2.46, 16223430.00, 50.95,Rural\\r\\nTamil Nadu, 31-12-2019, Monthly, 3.73, 15356938.00, 48.80,Rural\\r\\nTamil Nadu, 31-01-2020, Monthly, 1.18, 14954646.00, 46.23,Rural\\r\\nTamil Nadu, 29-02-2020, Monthly, 1.17, 15828488.00, 48.86,Rural\\r\\nTamil Nadu, 31-03-2020, Monthly, 6.36, 15848590.00, 51.56,Rural\\r\\nTamil Nadu, 30-04-2020, Monthly, 53.19, 5086200.00, 33.05,Rural\\r\\nTamil Nadu, 31-05-2020, Monthly, 38.73, 5768342.00, 28.60,Rural\\r\\nTamil Nadu, 30-06-2020, Monthly, 2.06, 10169115.00, 31.49,Rural\\r\\nTelangana, 31-05-2019, Monthly, 2.23, 11053353.00, 61.74,Rural\\r\\nTelangana, 30-06-2019, Monthly, 5.92, 10728822.00, 62.19,Rural\\r\\nTelangana, 31-07-2019, Monthly, 2.45, 11538688.00, 64.40,Rural\\r\\nTelangana, 31-08-2019, Monthly, 1.40, 10743959.00, 59.23,Rural\\r\\nTelangana, 30-09-2019, Monthly, 5.49, 12636415.00, 72.57,Rural\\r\\nTelangana, 31-10-2019, Monthly, 7.29, 11375354.00, 66.49,Rural\\r\\nTelangana, 30-11-2019, Monthly, 6.47, 11265828.00, 65.17,Rural\\r\\nTelangana, 31-12-2019, Monthly, 1.35, 11068056.00, 60.61,Rural\\r\\nTelangana, 31-01-2020, Monthly, 5.02, 12065915.00, 68.51,Rural\\r\\nTelangana, 29-02-2020, Monthly, 9.02, 11304474.00, 66.92,Rural\\r\\nTelangana, 31-03-2020, Monthly, 5.63, 12028377.00, 68.53,Rural\\r\\nTelangana, 30-04-2020, Monthly, 4.51, 8793799.00, 49.44,Rural\\r\\nTelangana, 31-05-2020, Monthly, 34.01, 7508747.00, 61.00,Rural\\r\\nTelangana, 30-06-2020, Monthly, 19.30, 8891181.00, 58.97,Rural\\r\\nTripura, 31-05-2019, Monthly, 29.25, 1019549.00, 64.47,Rural\\r\\nTripura, 30-06-2019, Monthly, 26.64, 1107013.00, 67.40,Rural\\r\\nTripura, 31-07-2019, Monthly, 22.47, 1052597.00, 60.54,Rural\\r\\nTripura, 31-08-2019, Monthly, 25.49, 975501.00, 58.29,Rural\\r\\nTripura, 30-09-2019, Monthly, 30.23, 1034408.00, 65.90,Rural\\r\\nTripura, 31-10-2019, Monthly, 27.54, 1113764.00, 68.21,Rural\\r\\nTripura, 30-11-2019, Monthly, 25.25, 1084633.00, 64.29,Rural\\r\\nTripura, 31-12-2019, Monthly, 26.53, 1046878.00, 63.02,Rural\\r\\nTripura, 31-01-2020, Monthly, 31.91, 1057975.00, 68.61,Rural\\r\\nTripura, 29-02-2020, Monthly, 26.22, 1169347.00, 69.88,Rural\\r\\nTripura, 31-03-2020, Monthly, 31.61, 1060946.00, 68.28,Rural\\r\\nTripura, 30-04-2020, Monthly, 43.64, 675083.00, 52.63,Rural\\r\\nTripura, 31-05-2020, Monthly, 14.71, 911789.00, 46.90,Rural\\r\\nTripura, 30-06-2020, Monthly, 18.84, 1106978.00, 59.74,Rural\\r\\nUttar Pradesh, 31-05-2019, Monthly, 10.26, 43287808.00, 39.96,Rural\\r\\nUttar Pradesh, 30-06-2019, Monthly, 11.13, 42276572.00, 39.32,Rural\\r\\nUttar Pradesh, 31-07-2019, Monthly, 9.19, 42697000.00, 38.78,Rural\\r\\nUttar Pradesh, 31-08-2019, Monthly, 11.47, 43298746.00, 40.24,Rural\\r\\nUttar Pradesh, 30-09-2019, Monthly, 6.45, 44198762.00, 38.79,Rural\\r\\nUttar Pradesh, 31-10-2019, Monthly, 10.18, 42833265.00, 39.07,Rural\\r\\nUttar Pradesh, 30-11-2019, Monthly, 6.94, 43261530.00, 38.01,Rural\\r\\nUttar Pradesh, 31-12-2019, Monthly, 8.43, 44640087.00, 39.77,Rural\\r\\nUttar Pradesh, 31-01-2020, Monthly, 6.06, 45777509.00, 39.67,Rural\\r\\nUttar Pradesh, 29-02-2020, Monthly, 8.12, 44257432.00, 39.13,Rural\\r\\nUttar Pradesh, 31-03-2020, Monthly, 9.37, 43086706.00, 38.53,Rural\\r\\nUttar Pradesh, 30-04-2020, Monthly, 19.92, 39970677.00, 40.37,Rural\\r\\nUttar Pradesh, 31-05-2020, Monthly, 16.89, 38640999.00, 37.52,Rural\\r\\nUttar Pradesh, 30-06-2020, Monthly, 8.51, 41908909.00, 36.89,Rural\\r\\nUttarakhand, 31-05-2019, Monthly, 1.63, 2108044.00, 37.47,Rural\\r\\nUttarakhand, 30-06-2019, Monthly, 4.65, 2021553.00, 37.01,Rural\\r\\nUttarakhand, 31-07-2019, Monthly, 5.74, 2000524.00, 36.97,Rural\\r\\nUttarakhand, 31-08-2019, Monthly, 6.11, 1911380.00, 35.39,Rural\\r\\nUttarakhand, 30-09-2019, Monthly, 3.47, 2157845.00, 38.79,Rural\\r\\nUttarakhand, 31-10-2019, Monthly, 4.83, 2027662.00, 36.90,Rural\\r\\nUttarakhand, 30-11-2019, Monthly, 5.56, 2007113.00, 36.73,Rural\\r\\nUttarakhand, 31-12-2019, Monthly, 4.52, 1947566.00, 35.19,Rural\\r\\nUttarakhand, 31-01-2020, Monthly, 4.17, 1986386.00, 35.69,Rural\\r\\nUttarakhand, 29-02-2020, Monthly, 4.85, 2057523.00, 37.16,Rural\\r\\nUttarakhand, 30-04-2020, Monthly, 3.66, 1972074.00, 35.04,Rural\\r\\nUttarakhand, 31-05-2020, Monthly, 3.57, 1915482.00, 33.94,Rural\\r\\nUttarakhand, 30-06-2020, Monthly, 10.71, 1675441.00, 32.00,Rural\\r\\nWest Bengal, 31-05-2019, Monthly, 6.02, 23452875.00, 46.41,Rural\\r\\nWest Bengal, 30-06-2019, Monthly, 5.85, 25543465.00, 50.36,Rural\\r\\nWest Bengal, 31-07-2019, Monthly, 5.62, 24857807.00, 48.78,Rural\\r\\nWest Bengal, 31-08-2019, Monthly, 5.58, 24924827.00, 48.79,Rural\\r\\nWest Bengal, 30-09-2019, Monthly, 5.26, 25610773.00, 49.87,Rural\\r\\nWest Bengal, 31-10-2019, Monthly, 6.78, 24353018.00, 48.09,Rural\\r\\nWest Bengal, 30-11-2019, Monthly, 5.83, 25630359.00, 50.00,Rural\\r\\nWest Bengal, 31-12-2019, Monthly, 5.79, 24906239.00, 48.47,Rural\\r\\nWest Bengal, 31-01-2020, Monthly, 6.79, 24612171.00, 48.30,Rural\\r\\nWest Bengal, 29-02-2020, Monthly, 3.78, 26093009.00, 49.51,Rural\\r\\nWest Bengal, 31-03-2020, Monthly, 7.02, 25097812.00, 49.18,Rural\\r\\nWest Bengal, 30-04-2020, Monthly, 18.32, 17639370.00, 39.27,Rural\\r\\nWest Bengal, 31-05-2020, Monthly, 18.43, 19115772.00, 42.53,Rural\\r\\nWest Bengal, 30-06-2020, Monthly, 4.94, 21225887.00, 40.44,Rural\\r\\n,,,,,,\\r\\n,,,,,,\\r\\n,,,,,,\\r\\n,,,,,,\\r\\n,,,,,,\\r\\n,,,,,,\\r\\n,,,,,,\\r\\n,,,,,,\\r\\n,,,,,,\\r\\n,,,,,,\\r\\n,,,,,,\\r\\n,,,,,,\\r\\n,,,,,,\\r\\n,,,,,,\\r\\nAndhra Pradesh, 31-05-2019,Monthly, 6.09, 4788661.00, 37.45,Urban\\r\\nAndhra Pradesh, 30-06-2019,Monthly, 3.80, 4824630.00, 36.76,Urban\\r\\nAndhra Pradesh, 31-07-2019,Monthly, 5.64, 4657443.00, 36.10,Urban\\r\\nAndhra Pradesh, 31-08-2019,Monthly, 4.61, 4743179.00, 36.29,Urban\\r\\nAndhra Pradesh, 30-09-2019,Monthly, 6.01, 4733996.00, 36.69,Urban\\r\\nAndhra Pradesh, 31-10-2019,Monthly, 4.70, 4774377.00, 36.41,Urban\\r\\nAndhra Pradesh, 30-11-2019,Monthly, 7.54, 4668772.00, 36.62,Urban\\r\\nAndhra Pradesh, 31-12-2019,Monthly, 7.88, 4913963.00, 38.61,Urban\\r\\nAndhra Pradesh, 31-01-2020,Monthly, 7.11, 4618860.00, 35.91,Urban\\r\\nAndhra Pradesh, 29-02-2020,Monthly, 5.66, 4822035.00, 36.84,Urban\\r\\nAndhra Pradesh, 31-03-2020,Monthly, 9.88, 4521537.00, 36.08,Urban\\r\\nAndhra Pradesh, 30-04-2020,Monthly, 32.30, 2544084.00, 26.97,Urban\\r\\nAndhra Pradesh, 31-05-2020,Monthly, 24.91, 3428356.00, 32.69,Urban\\r\\nAndhra Pradesh, 30-06-2020,Monthly, 5.86, 4954389.00, 37.61,Urban\\r\\nAssam, 31-05-2019,Monthly, 7.87, 1671707.00, 44.92,Urban\\r\\nAssam, 30-06-2019,Monthly, 9.89, 1647342.00, 45.17,Urban\\r\\nAssam, 31-07-2019,Monthly, 3.21, 1739838.00, 44.32,Urban\\r\\nAssam, 31-08-2019,Monthly, 10.39, 1595582.00, 43.81,Urban\\r\\nAssam, 30-09-2019,Monthly, 9.26, 1576480.00, 42.66,Urban\\r\\nAssam, 31-10-2019,Monthly, 11.17, 1595176.00, 44.01,Urban\\r\\nAssam, 30-11-2019,Monthly, 6.31, 1708045.00, 44.59,Urban\\r\\nAssam, 31-12-2019,Monthly, 5.02, 1722303.00, 44.26,Urban\\r\\nAssam, 31-01-2020,Monthly, 7.24, 1630908.00, 42.82,Urban\\r\\nAssam, 29-02-2020,Monthly, 9.98, 1625454.00, 43.90,Urban\\r\\nAssam, 31-03-2020,Monthly, 10.34, 1664145.00, 45.03,Urban\\r\\nAssam, 30-04-2020,Monthly, 8.37, 1454956.00, 38.45,Urban\\r\\nAssam, 31-05-2020,Monthly, 10.77, 1441722.00, 39.04,Urban\\r\\nAssam, 30-06-2020,Monthly, 3.42, 1551007.00, 38.73,Urban\\r\\nBihar, 31-05-2019,Monthly, 19.90, 3029344.00, 39.80,Urban\\r\\nBihar, 30-06-2019,Monthly, 13.29, 3248864.00, 39.35,Urban\\r\\nBihar, 31-07-2019,Monthly, 16.41, 3059744.00, 38.36,Urban\\r\\nBihar, 31-08-2019,Monthly, 17.66, 2994763.00, 38.03,Urban\\r\\nBihar, 30-09-2019,Monthly, 20.46, 2992082.00, 39.25,Urban\\r\\nBihar, 31-10-2019,Monthly, 14.06, 3173429.00, 38.45,Urban\\r\\nBihar, 30-11-2019,Monthly, 17.62, 3081077.00, 38.86,Urban\\r\\nBihar, 31-12-2019,Monthly, 14.91, 2977857.00, 36.29,Urban\\r\\nBihar, 31-01-2020,Monthly, 20.69, 2988665.00, 38.99,Urban\\r\\nBihar, 29-02-2020,Monthly, 15.11, 3113464.00, 37.87,Urban\\r\\nBihar, 31-03-2020,Monthly, 15.73, 3049637.00, 37.29,Urban\\r\\nBihar, 30-04-2020,Monthly, 58.77, 1400962.00, 34.94,Urban\\r\\nBihar, 31-05-2020,Monthly, 37.87, 2207026.00, 36.45,Urban\\r\\nBihar, 30-06-2020,Monthly, 12.45, 3124663.00, 36.54,Urban\\r\\nChandigarh, 31-05-2019,Monthly, 18.35, 348042.00, 44.89,Urban\\r\\nChandigarh, 30-06-2019,Monthly, 12.40, 337145.00, 40.44,Urban\\r\\nChandigarh, 31-07-2019,Monthly, 21.80, 294379.00, 39.47,Urban\\r\\nChandigarh, 31-08-2019,Monthly, 9.52, 328282.00, 37.95,Urban\\r\\nChandigarh, 30-09-2019,Monthly, 20.14, 327239.00, 42.77,Urban\\r\\nChandigarh, 31-10-2019,Monthly, 13.99, 330856.00, 40.06,Urban\\r\\nChandigarh, 30-11-2019,Monthly, 22.05, 289593.00, 38.60,Urban\\r\\nChandigarh, 31-12-2019,Monthly, 8.33, 311146.00, 35.19,Urban\\r\\nChandigarh, 31-01-2020,Monthly, 20.00, 332062.00, 42.94,Urban\\r\\nChandigarh, 29-02-2020,Monthly, 16.67, 316887.00, 39.25,Urban\\r\\nChandigarh, 31-03-2020,Monthly, 21.43, 279839.00, 36.68,Urban\\r\\nChandigarh, 30-06-2020,Monthly, 7.22, 306505.00, 33.80,Urban\\r\\nChhattisgarh, 31-05-2019,Monthly, 9.77, 2223129.00, 45.61,Urban\\r\\nChhattisgarh, 30-06-2019,Monthly, 11.77, 2192020.00, 45.88,Urban\\r\\nChhattisgarh, 31-07-2019,Monthly, 8.17, 2285436.00, 45.85,Urban\\r\\nChhattisgarh, 31-08-2019,Monthly, 6.29, 2392400.00, 46.91,Urban\\r\\nChhattisgarh, 30-09-2019,Monthly, 9.46, 2311507.00, 46.80,Urban\\r\\nChhattisgarh, 31-10-2019,Monthly, 10.27, 2297096.00, 46.82,Urban\\r\\nChhattisgarh, 30-11-2019,Monthly, 8.32, 2341284.00, 46.59,Urban\\r\\nChhattisgarh, 31-12-2019,Monthly, 3.57, 2415436.00, 45.59,Urban\\r\\nChhattisgarh, 31-01-2020,Monthly, 9.01, 2315972.00, 46.21,Urban\\r\\nChhattisgarh, 29-02-2020,Monthly, 9.79, 2347941.00, 47.14,Urban\\r\\nChhattisgarh, 31-03-2020,Monthly, 8.21, 2407509.00, 47.39,Urban\\r\\nChhattisgarh, 30-04-2020,Monthly, 20.13, 1066126.00, 24.06,Urban\\r\\nChhattisgarh, 31-05-2020,Monthly, 24.10, 1276291.00, 30.24,Urban\\r\\nChhattisgarh, 30-06-2020,Monthly, 27.07, 1602231.00, 39.41,Urban\\r\\nDelhi, 31-05-2019,Monthly, 12.31, 5756475.00, 44.17,Urban\\r\\nDelhi, 30-06-2019,Monthly, 12.76, 5550172.00, 42.71,Urban\\r\\nDelhi, 31-07-2019,Monthly, 14.68, 5393091.00, 42.34,Urban\\r\\nDelhi, 31-08-2019,Monthly, 13.52, 5552510.00, 42.90,Urban\\r\\nDelhi, 30-09-2019,Monthly, 20.59, 5642253.00, 47.36,Urban\\r\\nDelhi, 31-10-2019,Monthly, 12.41, 6030363.00, 45.78,Urban\\r\\nDelhi, 30-11-2019,Monthly, 16.11, 5439600.00, 43.02,Urban\\r\\nDelhi, 31-12-2019,Monthly, 11.07, 5718337.00, 42.56,Urban\\r\\nDelhi, 31-01-2020,Monthly, 22.45, 5647493.00, 48.09,Urban\\r\\nDelhi, 29-02-2020,Monthly, 14.86, 5708807.00, 44.18,Urban\\r\\nDelhi, 31-03-2020,Monthly, 17.09, 5401392.00, 42.82,Urban\\r\\nDelhi, 30-04-2020,Monthly, 16.51, 3003787.00, 23.59,Urban\\r\\nDelhi, 31-05-2020,Monthly, 45.78, 2343783.00, 28.28,Urban\\r\\nDelhi, 30-06-2020,Monthly, 18.11, 4306807.00, 34.32,Urban\\r\\nGoa, 31-05-2019,Monthly, 2.75, 264855.00, 34.17,Urban\\r\\nGoa, 30-06-2019,Monthly, 13.33, 304015.00, 43.96,Urban\\r\\nGoa, 31-07-2019,Monthly, 12.28, 280367.00, 40.00,Urban\\r\\nGoa, 31-08-2019,Monthly, 4.90, 243277.00, 31.97,Urban\\r\\nGoa, 30-09-2019,Monthly, 3.16, 309643.00, 39.92,Urban\\r\\nGoa, 31-10-2019,Monthly, 12.31, 290264.00, 41.27,Urban\\r\\nGoa, 30-11-2019,Monthly, 25.20, 271612.00, 45.22,Urban\\r\\nGoa, 31-12-2019,Monthly, 16.22, 288154.00, 42.77,Urban\\r\\nGoa, 31-01-2020,Monthly, 10.92, 257814.00, 35.95,Urban\\r\\nGoa, 29-02-2020,Monthly, 4.31, 306396.00, 39.73,Urban\\r\\nGoa, 31-03-2020,Monthly, 4.76, 277093.00, 36.05,Urban\\r\\nGoa, 30-04-2020,Monthly, 11.76, 318957.00, 44.74,Urban\\r\\nGujarat, 31-05-2019,Monthly, 4.09, 9686558.00, 41.67,Urban\\r\\nGujarat, 30-06-2019,Monthly, 6.31, 10144965.00, 44.57,Urban\\r\\nGujarat, 31-07-2019,Monthly, 5.15, 9828023.00, 42.54,Urban\\r\\nGujarat, 31-08-2019,Monthly, 4.20, 10228154.00, 43.72,Urban\\r\\nGujarat, 30-09-2019,Monthly, 5.96, 9609939.00, 41.75,Urban\\r\\nGujarat, 31-10-2019,Monthly, 5.45, 10474217.00, 45.14,Urban\\r\\nGujarat, 30-11-2019,Monthly, 7.53, 9896129.00, 43.50,Urban\\r\\nGujarat, 31-12-2019,Monthly, 5.71, 10172812.00, 43.75,Urban\\r\\nGujarat, 31-01-2020,Monthly, 5.82, 9824501.00, 42.19,Urban\\r\\nGujarat, 29-02-2020,Monthly, 6.04, 10784753.00, 46.31,Urban\\r\\nGujarat, 31-03-2020,Monthly, 5.39, 10083026.00, 42.90,Urban\\r\\nGujarat, 30-04-2020,Monthly, 25.94, 6701284.00, 36.33,Urban\\r\\nGujarat, 31-05-2020,Monthly, 11.62, 6072776.00, 27.52,Urban\\r\\nGujarat, 30-06-2020,Monthly, 4.54, 10574711.00, 44.26,Urban\\r\\nHaryana, 31-05-2019,Monthly, 24.67, 2693596.00, 43.18,Urban\\r\\nHaryana, 30-06-2019,Monthly, 20.42, 2845190.00, 43.06,Urban\\r\\nHaryana, 31-07-2019,Monthly, 25.45, 2405973.00, 38.77,Urban\\r\\nHaryana, 31-08-2019,Monthly, 24.19, 2523005.00, 39.87,Urban\\r\\nHaryana, 30-09-2019,Monthly, 26.84, 2675862.00, 43.70,Urban\\r\\nHaryana, 31-10-2019,Monthly, 21.04, 2821456.00, 42.58,Urban\\r\\nHaryana, 30-11-2019,Monthly, 27.06, 2404239.00, 39.18,Urban\\r\\nHaryana, 31-12-2019,Monthly, 23.65, 2548835.00, 39.57,Urban\\r\\nHaryana, 31-01-2020,Monthly, 27.24, 2630938.00, 42.75,Urban\\r\\nHaryana, 29-02-2020,Monthly, 23.29, 2752834.00, 42.32,Urban\\r\\nHaryana, 31-03-2020,Monthly, 27.14, 2275407.00, 36.73,Urban\\r\\nHaryana, 30-04-2020,Monthly, 46.89, 1606580.00, 35.48,Urban\\r\\nHaryana, 31-05-2020,Monthly, 38.46, 2013083.00, 38.27,Urban\\r\\nHaryana, 30-06-2020,Monthly, 29.41, 2304138.00, 38.09,Urban\\r\\nHimachal Pradesh, 31-05-2019,Monthly, 10.88, 245668.00, 45.27,Urban\\r\\nHimachal Pradesh, 30-06-2019,Monthly, 21.43, 237576.00, 49.58,Urban\\r\\nHimachal Pradesh, 31-07-2019,Monthly, 21.51, 235894.00, 49.22,Urban\\r\\nHimachal Pradesh, 31-08-2019,Monthly, 24.48, 236315.00, 51.17,Urban\\r\\nHimachal Pradesh, 30-09-2019,Monthly, 12.00, 247210.00, 45.87,Urban\\r\\nHimachal Pradesh, 31-10-2019,Monthly, 23.77, 232322.00, 49.69,Urban\\r\\nHimachal Pradesh, 30-11-2019,Monthly, 27.27, 233029.00, 52.17,Urban\\r\\nHimachal Pradesh, 31-12-2019,Monthly, 25.32, 241366.00, 52.55,Urban\\r\\nHimachal Pradesh, 31-01-2020,Monthly, 18.15, 246596.00, 48.92,Urban\\r\\nHimachal Pradesh, 29-02-2020,Monthly, 27.31, 227804.00, 50.82,Urban\\r\\nHimachal Pradesh, 31-03-2020,Monthly, 26.44, 221432.00, 48.74,Urban\\r\\nHimachal Pradesh, 30-04-2020,Monthly, 2.70, 146957.00, 24.42,Urban\\r\\nHimachal Pradesh, 31-05-2020,Monthly, 50.00, 134868.00, 43.55,Urban\\r\\nHimachal Pradesh, 30-06-2020,Monthly, 10.81, 224902.00, 40.66,Urban\\r\\nJammu & Kashmir, 31-05-2019,Monthly, 23.04, 1130139.00, 46.74,Urban\\r\\nJammu & Kashmir, 30-06-2019,Monthly, 19.88, 1139815.00, 45.17,Urban\\r\\nJammu & Kashmir, 31-07-2019,Monthly, 21.55, 1183770.00, 47.80,Urban\\r\\nJammu & Kashmir, 31-10-2019,Monthly, 24.06, 1029087.00, 42.63,Urban\\r\\nJammu & Kashmir, 30-11-2019,Monthly, 14.29, 1226793.00, 44.92,Urban\\r\\nJammu & Kashmir, 31-12-2019,Monthly, 7.02, 1209085.00, 40.71,Urban\\r\\nJammu & Kashmir, 31-01-2020,Monthly, 18.54, 1079537.00, 41.40,Urban\\r\\nJammu & Kashmir, 29-02-2020,Monthly, 19.86, 1060116.00, 41.23,Urban\\r\\nJammu & Kashmir, 31-03-2020,Monthly, 14.29, 998103.00, 36.21,Urban\\r\\nJammu & Kashmir, 31-05-2020,Monthly, 12.96, 937435.00, 33.33,Urban\\r\\nJharkhand, 31-05-2019,Monthly, 17.23, 2404033.00, 43.25,Urban\\r\\nJharkhand, 30-06-2019,Monthly, 20.51, 2326911.00, 43.51,Urban\\r\\nJharkhand, 31-07-2019,Monthly, 15.67, 2434579.00, 42.82,Urban\\r\\nJharkhand, 31-08-2019,Monthly, 20.25, 2335406.00, 43.35,Urban\\r\\nJharkhand, 30-09-2019,Monthly, 21.16, 2357627.00, 44.18,Urban\\r\\nJharkhand, 31-10-2019,Monthly, 19.05, 2460196.00, 44.82,Urban\\r\\nJharkhand, 30-11-2019,Monthly, 17.34, 2424281.00, 43.17,Urban\\r\\nJharkhand, 31-12-2019,Monthly, 22.01, 2290170.00, 43.14,Urban\\r\\nJharkhand, 31-01-2020,Monthly, 22.96, 2329293.00, 44.33,Urban\\r\\nJharkhand, 29-02-2020,Monthly, 19.67, 2493023.00, 45.42,Urban\\r\\nJharkhand, 31-03-2020,Monthly, 16.40, 2480661.00, 43.34,Urban\\r\\nJharkhand, 30-04-2020,Monthly, 61.48, 1054829.00, 39.92,Urban\\r\\nJharkhand, 31-05-2020,Monthly, 70.17, 830347.00, 40.49,Urban\\r\\nJharkhand, 30-06-2020,Monthly, 19.38, 2244460.00, 40.43,Urban\\r\\nKarnataka, 31-05-2019,Monthly, 6.56, 8638239.00, 40.62,Urban\\r\\nKarnataka, 30-06-2019,Monthly, 5.00, 8862498.00, 40.89,Urban\\r\\nKarnataka, 31-07-2019,Monthly, 2.29, 8738029.00, 39.09,Urban\\r\\nKarnataka, 31-08-2019,Monthly, 1.27, 8614340.00, 38.04,Urban\\r\\nKarnataka, 30-09-2019,Monthly, 3.57, 8647794.00, 39.00,Urban\\r\\nKarnataka, 31-10-2019,Monthly, 3.87, 8799249.00, 39.70,Urban\\r\\nKarnataka, 30-11-2019,Monthly, 3.44, 8613835.00, 38.60,Urban\\r\\nKarnataka, 31-12-2019,Monthly, 1.56, 8592376.00, 37.66,Urban\\r\\nKarnataka, 31-01-2020,Monthly, 3.31, 8749154.00, 38.94,Urban\\r\\nKarnataka, 29-02-2020,Monthly, 2.88, 8924061.00, 39.45,Urban\\r\\nKarnataka, 31-03-2020,Monthly, 4.92, 9225835.00, 41.55,Urban\\r\\nKarnataka, 30-04-2020,Monthly, 25.12, 7387995.00, 42.14,Urban\\r\\nKarnataka, 31-05-2020,Monthly, 15.88, 8669258.00, 43.90,Urban\\r\\nKarnataka, 30-06-2020,Monthly, 6.12, 8822411.00, 39.93,Urban\\r\\nKerala, 31-05-2019,Monthly, 6.11, 4605913.00, 36.65,Urban\\r\\nKerala, 30-06-2019,Monthly, 6.67, 4678374.00, 37.42,Urban\\r\\nKerala, 31-07-2019,Monthly, 7.58, 4105211.00, 33.13,Urban\\r\\nKerala, 31-08-2019,Monthly, 7.69, 4448650.00, 35.91,Urban\\r\\nKerala, 30-09-2019,Monthly, 5.52, 4640642.00, 36.57,Urban\\r\\nKerala, 31-10-2019,Monthly, 5.35, 4644510.00, 36.49,Urban\\r\\nKerala, 30-11-2019,Monthly, 6.71, 4062767.00, 32.36,Urban\\r\\nKerala, 31-12-2019,Monthly, 7.31, 4440283.00, 35.56,Urban\\r\\nKerala, 31-01-2020,Monthly, 6.65, 4597507.00, 36.53,Urban\\r\\nKerala, 29-02-2020,Monthly, 6.08, 4624444.00, 36.48,Urban\\r\\nKerala, 31-03-2020,Monthly, 9.14, 4079775.00, 33.24,Urban\\r\\nKerala, 30-04-2020,Monthly, 21.43, 2179106.00, 20.51,Urban\\r\\nKerala, 31-05-2020,Monthly, 30.28, 2826118.00, 29.95,Urban\\r\\nKerala, 30-06-2020,Monthly, 12.17, 4601293.00, 38.68,Urban\\r\\nMadhya Pradesh, 31-05-2019,Monthly, 3.91, 6692720.00, 38.96,Urban\\r\\nMadhya Pradesh, 30-06-2019,Monthly, 6.38, 6509340.00, 38.80,Urban\\r\\nMadhya Pradesh, 31-07-2019,Monthly, 7.38, 6266446.00, 37.67,Urban\\r\\nMadhya Pradesh, 31-08-2019,Monthly, 6.82, 6809834.00, 40.60,Urban\\r\\nMadhya Pradesh, 30-09-2019,Monthly, 7.00, 6655967.00, 39.67,Urban\\r\\nMadhya Pradesh, 31-10-2019,Monthly, 4.40, 6603715.00, 38.20,Urban\\r\\nMadhya Pradesh, 30-11-2019,Monthly, 6.06, 6459457.00, 37.94,Urban\\r\\nMadhya Pradesh, 31-12-2019,Monthly, 6.20, 6787403.00, 39.83,Urban\\r\\nMadhya Pradesh, 31-01-2020,Monthly, 5.17, 6834930.00, 39.59,Urban\\r\\nMadhya Pradesh, 29-02-2020,Monthly, 4.96, 6533435.00, 37.68,Urban\\r\\nMadhya Pradesh, 31-03-2020,Monthly, 4.80, 6386723.00, 36.68,Urban\\r\\nMadhya Pradesh, 30-04-2020,Monthly, 11.94, 4802873.00, 29.76,Urban\\r\\nMadhya Pradesh, 31-05-2020,Monthly, 40.49, 3879934.00, 35.49,Urban\\r\\nMadhya Pradesh, 30-06-2020,Monthly, 12.72, 6221562.00, 38.72,Urban\\r\\nMaharashtra, 31-05-2019,Monthly, 6.08, 16962574.00, 38.30,Urban\\r\\nMaharashtra, 30-06-2019,Monthly, 6.46, 17375053.00, 39.30,Urban\\r\\nMaharashtra, 31-07-2019,Monthly, 6.35, 17215677.00, 38.81,Urban\\r\\nMaharashtra, 31-08-2019,Monthly, 7.57, 16602767.00, 37.84,Urban\\r\\nMaharashtra, 30-09-2019,Monthly, 7.60, 17396398.00, 39.58,Urban\\r\\nMaharashtra, 31-10-2019,Monthly, 7.51, 17221991.00, 39.05,Urban\\r\\nMaharashtra, 30-11-2019,Monthly, 7.60, 17486683.00, 39.61,Urban\\r\\nMaharashtra, 31-12-2019,Monthly, 7.83, 16581144.00, 37.57,Urban\\r\\nMaharashtra, 31-01-2020,Monthly, 6.67, 16715470.00, 37.32,Urban\\r\\nMaharashtra, 29-02-2020,Monthly, 5.34, 17122782.00, 37.61,Urban\\r\\nMaharashtra, 31-03-2020,Monthly, 6.34, 17065830.00, 37.80,Urban\\r\\nMaharashtra, 30-04-2020,Monthly, 14.99, 12674451.00, 30.86,Urban\\r\\nMaharashtra, 31-05-2020,Monthly, 15.92, 12365754.00, 30.38,Urban\\r\\nMaharashtra, 30-06-2020,Monthly, 10.01, 16172690.00, 37.04,Urban\\r\\nMeghalaya, 31-05-2019,Monthly, 8.40, 228978.00, 47.79,Urban\\r\\nMeghalaya, 30-06-2019,Monthly, 8.66, 231252.00, 48.29,Urban\\r\\nMeghalaya, 31-07-2019,Monthly, 4.43, 284015.00, 56.55,Urban\\r\\nMeghalaya, 31-08-2019,Monthly, 5.80, 259433.00, 52.27,Urban\\r\\nMeghalaya, 30-09-2019,Monthly, 5.30, 253887.00, 50.77,Urban\\r\\nMeghalaya, 31-10-2019,Monthly, 7.20, 234375.00, 47.71,Urban\\r\\nMeghalaya, 30-11-2019,Monthly, 3.02, 293431.00, 57.02,Urban\\r\\nMeghalaya, 31-12-2019,Monthly, 5.21, 267417.00, 53.04,Urban\\r\\nMeghalaya, 31-01-2020,Monthly, 4.76, 261687.00, 51.53,Urban\\r\\nMeghalaya, 29-02-2020,Monthly, 7.37, 233965.00, 47.26,Urban\\r\\nMeghalaya, 31-03-2020,Monthly, 2.80, 289735.00, 55.64,Urban\\r\\nMeghalaya, 30-04-2020,Monthly, 17.39, 161939.00, 36.51,Urban\\r\\nMeghalaya, 31-05-2020,Monthly, 14.58, 222916.00, 48.48,Urban\\r\\nOdisha, 31-05-2019,Monthly, 2.95, 2519582.00, 41.26,Urban\\r\\nOdisha, 30-06-2019,Monthly, 2.63, 2356290.00, 38.39,Urban\\r\\nOdisha, 31-07-2019,Monthly, 1.78, 2542237.00, 40.99,Urban\\r\\nOdisha, 31-08-2019,Monthly, 3.50, 2456983.00, 40.25,Urban\\r\\nOdisha, 30-09-2019,Monthly, 3.78, 2570663.00, 42.15,Urban\\r\\nOdisha, 31-10-2019,Monthly, 4.50, 2456855.00, 40.51,Urban\\r\\nOdisha, 30-11-2019,Monthly, 2.23, 2594469.00, 41.71,Urban\\r\\nOdisha, 31-12-2019,Monthly, 3.36, 2369048.00, 38.46,Urban\\r\\nOdisha, 31-01-2020,Monthly, 2.28, 2561320.00, 41.05,Urban\\r\\nOdisha, 29-02-2020,Monthly, 2.19, 2438080.00, 38.97,Urban\\r\\nOdisha, 31-03-2020,Monthly, 3.96, 2457952.00, 39.93,Urban\\r\\nOdisha, 30-04-2020,Monthly, 20.50, 1303244.00, 25.53,Urban\\r\\nOdisha, 31-05-2020,Monthly, 10.00, 1975481.00, 34.12,Urban\\r\\nOdisha, 30-06-2020,Monthly, 2.18, 2221069.00, 35.24,Urban\\r\\nPuducherry, 31-05-2019,Monthly, 1.25, 283905.00, 35.71,Urban\\r\\nPuducherry, 30-06-2019,Monthly, 0.00, 304369.00, 37.73,Urban\\r\\nPuducherry, 31-07-2019,Monthly, 0.00, 281117.00, 34.77,Urban\\r\\nPuducherry, 31-08-2019,Monthly, 8.95, 312882.00, 42.41,Urban\\r\\nPuducherry, 30-09-2019,Monthly, 1.22, 286573.00, 35.73,Urban\\r\\nPuducherry, 31-10-2019,Monthly, 1.17, 312548.00, 38.86,Urban\\r\\nPuducherry, 30-11-2019,Monthly, 1.37, 275003.00, 34.19,Urban\\r\\nPuducherry, 31-12-2019,Monthly, 5.21, 313135.00, 40.42,Urban\\r\\nPuducherry, 31-01-2020,Monthly, 0.57, 281698.00, 34.59,Urban\\r\\nPuducherry, 29-02-2020,Monthly, 1.78, 310342.00, 38.50,Urban\\r\\nPuducherry, 31-03-2020,Monthly, 0.62, 278851.00, 34.12,Urban\\r\\nPuducherry, 30-04-2020,Monthly, 76.74, 68122.00, 35.54,Urban\\r\\nPuducherry, 31-05-2020,Monthly, 75.00, 64538.00, 31.25,Urban\\r\\nPuducherry, 30-06-2020,Monthly, 4.55, 234926.00, 29.73,Urban\\r\\nPunjab, 31-05-2019,Monthly, 13.49, 3289918.00, 40.03,Urban\\r\\nPunjab, 30-06-2019,Monthly, 13.17, 3307798.00, 40.02,Urban\\r\\nPunjab, 31-07-2019,Monthly, 11.61, 3592442.00, 42.62,Urban\\r\\nPunjab, 31-08-2019,Monthly, 11.99, 3499863.00, 41.61,Urban\\r\\nPunjab, 30-09-2019,Monthly, 15.69, 3227178.00, 39.97,Urban\\r\\nPunjab, 31-10-2019,Monthly, 13.75, 3070438.00, 37.10,Urban\\r\\nPunjab, 30-11-2019,Monthly, 10.39, 3602243.00, 41.82,Urban\\r\\nPunjab, 31-12-2019,Monthly, 11.97, 3575778.00, 42.17,Urban\\r\\nPunjab, 31-01-2020,Monthly, 13.68, 3252622.00, 39.04,Urban\\r\\nPunjab, 29-02-2020,Monthly, 11.99, 3219227.00, 37.82,Urban\\r\\nPunjab, 31-03-2020,Monthly, 9.97, 3601793.00, 41.29,Urban\\r\\nPunjab, 30-04-2020,Monthly, 1.13, 2298975.00, 23.95,Urban\\r\\nPunjab, 31-05-2020,Monthly, 20.54, 2682658.00, 34.71,Urban\\r\\nPunjab, 30-06-2020,Monthly, 10.55, 3047750.00, 34.96,Urban\\r\\nRajasthan, 31-05-2019,Monthly, 13.62, 5108436.00, 39.44,Urban\\r\\nRajasthan, 30-06-2019,Monthly, 14.36, 5241174.00, 40.73,Urban\\r\\nRajasthan, 31-07-2019,Monthly, 11.67, 5372470.00, 40.38,Urban\\r\\nRajasthan, 31-08-2019,Monthly, 14.71, 5195170.00, 40.34,Urban\\r\\nRajasthan, 30-09-2019,Monthly, 12.63, 5176819.00, 39.15,Urban\\r\\nRajasthan, 31-10-2019,Monthly, 13.02, 5384335.00, 40.80,Urban\\r\\nRajasthan, 30-11-2019,Monthly, 14.30, 5306715.00, 40.73,Urban\\r\\nRajasthan, 31-12-2019,Monthly, 18.04, 5109481.00, 40.90,Urban\\r\\nRajasthan, 31-01-2020,Monthly, 18.82, 5157363.00, 41.59,Urban\\r\\nRajasthan, 29-02-2020,Monthly, 17.02, 5288343.00, 41.62,Urban\\r\\nRajasthan, 31-03-2020,Monthly, 18.54, 4964911.00, 39.71,Urban\\r\\nRajasthan, 30-04-2020,Monthly, 35.53, 2932923.00, 29.57,Urban\\r\\nRajasthan, 31-05-2020,Monthly, 25.35, 4225486.00, 36.71,Urban\\r\\nRajasthan, 30-06-2020,Monthly, 13.04, 5275784.00, 39.26,Urban\\r\\nSikkim, 31-05-2019,Monthly, 8.20, 89587.00, 48.61,Urban\\r\\nSikkim, 30-06-2019,Monthly, 7.76, 89702.00, 48.13,Urban\\r\\nSikkim, 31-07-2019,Monthly, 2.56, 108334.00, 54.67,Urban\\r\\nSikkim, 31-08-2019,Monthly, 4.82, 90850.00, 46.63,Urban\\r\\nSikkim, 30-09-2019,Monthly, 4.81, 89450.00, 45.61,Urban\\r\\nSikkim, 31-10-2019,Monthly, 9.68, 87974.00, 46.97,Urban\\r\\nSikkim, 30-11-2019,Monthly, 4.04, 107751.00, 53.80,Urban\\r\\nSikkim, 31-12-2019,Monthly, 7.37, 88035.00, 45.24,Urban\\r\\nSikkim, 31-03-2020,Monthly, 20.45, 86186.00, 50.57,Urban\\r\\nSikkim, 30-04-2020,Monthly, 5.77, 81905.00, 40.31,Urban\\r\\nSikkim, 31-05-2020,Monthly, 19.75, 75456.00, 43.32,Urban\\r\\nSikkim, 30-06-2020,Monthly, 2.63, 76269.00, 35.85,Urban\\r\\nTamil Nadu, 31-05-2019,Monthly, 0.89, 11798080.00, 37.31,Urban\\r\\nTamil Nadu, 30-06-2019,Monthly, 1.56, 12318745.00, 39.16,Urban\\r\\nTamil Nadu, 31-07-2019,Monthly, 3.18, 12054414.00, 38.89,Urban\\r\\nTamil Nadu, 31-08-2019,Monthly, 9.53, 11933093.00, 41.13,Urban\\r\\nTamil Nadu, 30-09-2019,Monthly, 1.86, 11902824.00, 37.76,Urban\\r\\nTamil Nadu, 31-10-2019,Monthly, 1.13, 12223948.00, 38.42,Urban\\r\\nTamil Nadu, 30-11-2019,Monthly, 2.65, 11729952.00, 37.38,Urban\\r\\nTamil Nadu, 31-12-2019,Monthly, 8.05, 12260389.00, 41.29,Urban\\r\\nTamil Nadu, 31-01-2020,Monthly, 2.05, 11926995.00, 37.64,Urban\\r\\nTamil Nadu, 29-02-2020,Monthly, 3.31, 11742101.00, 37.48,Urban\\r\\nTamil Nadu, 31-03-2020,Monthly, 6.46, 10982178.00, 36.17,Urban\\r\\nTamil Nadu, 30-04-2020,Monthly, 45.55, 4632967.00, 26.17,Urban\\r\\nTamil Nadu, 31-05-2020,Monthly, 25.95, 5733921.00, 23.77,Urban\\r\\nTamil Nadu, 30-06-2020,Monthly, 24.93, 7741005.00, 31.60,Urban\\r\\nTelangana, 31-05-2019,Monthly, 1.52, 5560649.00, 44.59,Urban\\r\\nTelangana, 30-06-2019,Monthly, 1.43, 5683349.00, 45.43,Urban\\r\\nTelangana, 31-07-2019,Monthly, 3.73, 5432503.00, 44.36,Urban\\r\\nTelangana, 31-08-2019,Monthly, 4.19, 5544693.00, 45.39,Urban\\r\\nTelangana, 30-09-2019,Monthly, 6.19, 5668785.00, 47.28,Urban\\r\\nTelangana, 31-10-2019,Monthly, 6.74, 5318341.00, 44.51,Urban\\r\\nTelangana, 30-11-2019,Monthly, 5.23, 5338119.00, 43.87,Urban\\r\\nTelangana, 31-12-2019,Monthly, 4.22, 5317782.00, 43.13,Urban\\r\\nTelangana, 31-01-2020,Monthly, 6.49, 5543380.00, 45.95,Urban\\r\\nTelangana, 29-02-2020,Monthly, 6.74, 5521496.00, 45.78,Urban\\r\\nTelangana, 31-03-2020,Monthly, 6.10, 5313236.00, 43.65,Urban\\r\\nTelangana, 30-04-2020,Monthly, 10.50, 3378431.00, 29.05,Urban\\r\\nTelangana, 31-05-2020,Monthly, 36.57, 3108830.00, 37.63,Urban\\r\\nTelangana, 30-06-2020,Monthly, 6.92, 4577995.00, 37.68,Urban\\r\\nTripura, 31-05-2019,Monthly, 34.69, 423127.00, 69.50,Urban\\r\\nTripura, 30-06-2019,Monthly, 25.59, 408738.00, 58.80,Urban\\r\\nTripura, 31-07-2019,Monthly, 25.81, 410583.00, 59.10,Urban\\r\\nTripura, 31-08-2019,Monthly, 33.45, 368977.00, 59.07,Urban\\r\\nTripura, 30-09-2019,Monthly, 33.57, 418043.00, 66.90,Urban\\r\\nTripura, 31-10-2019,Monthly, 26.67, 414808.00, 60.00,Urban\\r\\nTripura, 30-11-2019,Monthly, 27.15, 427700.00, 62.14,Urban\\r\\nTripura, 31-12-2019,Monthly, 33.48, 399427.00, 63.41,Urban\\r\\nTripura, 31-01-2020,Monthly, 34.37, 450155.00, 72.26,Urban\\r\\nTripura, 29-02-2020,Monthly, 33.88, 415339.00, 66.04,Urban\\r\\nTripura, 31-03-2020,Monthly, 25.69, 450271.00, 63.56,Urban\\r\\nTripura, 30-04-2020,Monthly, 34.88, 296431.00, 47.65,Urban\\r\\nTripura, 31-05-2020,Monthly, 16.78, 384999.00, 48.31,Urban\\r\\nTripura, 30-06-2020,Monthly, 27.47, 391015.00, 56.17,Urban\\r\\nUttar Pradesh, 31-05-2019,Monthly, 14.40, 13391244.00, 40.43,Urban\\r\\nUttar Pradesh, 30-06-2019,Monthly, 11.62, 13624452.00, 39.75,Urban\\r\\nUttar Pradesh, 31-07-2019,Monthly, 11.80, 13862431.00, 40.43,Urban\\r\\nUttar Pradesh, 31-08-2019,Monthly, 14.73, 13580241.00, 40.87,Urban\\r\\nUttar Pradesh, 30-09-2019,Monthly, 13.58, 13522970.00, 40.07,Urban\\r\\nUttar Pradesh, 31-10-2019,Monthly, 10.35, 13938303.00, 39.71,Urban\\r\\nUttar Pradesh, 30-11-2019,Monthly, 11.31, 14128888.00, 40.60,Urban\\r\\nUttar Pradesh, 31-12-2019,Monthly, 12.37, 13857200.00, 40.21,Urban\\r\\nUttar Pradesh, 31-01-2020,Monthly, 12.34, 13656250.00, 39.52,Urban\\r\\nUttar Pradesh, 29-02-2020,Monthly, 11.65, 13803099.00, 39.54,Urban\\r\\nUttar Pradesh, 31-03-2020,Monthly, 12.32, 13889632.00, 40.00,Urban\\r\\nUttar Pradesh, 30-04-2020,Monthly, 26.94, 10944379.00, 37.74,Urban\\r\\nUttar Pradesh, 31-05-2020,Monthly, 32.06, 11111486.00, 41.10,Urban\\r\\nUttar Pradesh, 30-06-2020,Monthly, 13.05, 13208724.00, 38.09,Urban\\r\\nUttarakhand, 31-05-2019,Monthly, 9.17, 676797.00, 26.33,Urban\\r\\nUttarakhand, 30-06-2019,Monthly, 4.69, 906889.00, 33.54,Urban\\r\\nUttarakhand, 31-07-2019,Monthly, 6.94, 859900.00, 32.48,Urban\\r\\nUttarakhand, 31-08-2019,Monthly, 7.43, 823967.00, 31.21,Urban\\r\\nUttarakhand, 30-09-2019,Monthly, 9.62, 711150.00, 27.51,Urban\\r\\nUttarakhand, 31-10-2019,Monthly, 4.72, 925174.00, 33.87,Urban\\r\\nUttarakhand, 30-11-2019,Monthly, 6.34, 904903.00, 33.61,Urban\\r\\nUttarakhand, 31-12-2019,Monthly, 7.39, 844779.00, 31.65,Urban\\r\\nUttarakhand, 31-01-2020,Monthly, 8.92, 725253.00, 27.55,Urban\\r\\nUttarakhand, 29-02-2020,Monthly, 5.28, 963408.00, 35.11,Urban\\r\\nUttarakhand, 31-03-2020,Monthly, 8.15, 889245.00, 33.33,Urban\\r\\nUttarakhand, 30-04-2020,Monthly, 13.18, 748041.00, 29.59,Urban\\r\\nUttarakhand, 31-05-2020,Monthly, 17.36, 778590.00, 32.27,Urban\\r\\nUttarakhand, 30-06-2020,Monthly, 5.08, 989470.00, 35.61,Urban\\r\\nWest Bengal, 31-05-2019,Monthly, 7.25, 11306177.00, 46.37,Urban\\r\\nWest Bengal, 30-06-2019,Monthly, 7.38, 10611498.00, 43.51,Urban\\r\\nWest Bengal, 31-07-2019,Monthly, 7.91, 10779829.00, 44.38,Urban\\r\\nWest Bengal, 31-08-2019,Monthly, 7.27, 11456493.00, 46.77,Urban\\r\\nWest Bengal, 30-09-2019,Monthly, 7.79, 11158649.00, 45.74,Urban\\r\\nWest Bengal, 31-10-2019,Monthly, 7.83, 10563686.00, 43.25,Urban\\r\\nWest Bengal, 30-11-2019,Monthly, 6.61, 10768462.00, 43.44,Urban\\r\\nWest Bengal, 31-12-2019,Monthly, 7.24, 11335696.00, 45.97,Urban\\r\\nWest Bengal, 31-01-2020,Monthly, 7.27, 11208617.00, 45.39,Urban\\r\\nWest Bengal, 29-02-2020,Monthly, 7.55, 10871168.00, 44.09,Urban\\r\\nWest Bengal, 31-03-2020,Monthly, 6.67, 10806105.00, 43.34,Urban\\r\\nWest Bengal, 30-04-2020,Monthly, 15.63, 9299466.00, 41.20,Urban\\r\\nWest Bengal, 31-05-2020,Monthly, 15.22, 9240903.00, 40.67,Urban\\r\\nWest Bengal, 30-06-2020,Monthly, 9.86, 9088931.00, 37.57,Urban\\r\\n,,,,,,\\r\\n,,,,,,\\r\\n,,,,,,\\r\\n,,,,,,\\r\\n,,,,,,\\r\\n,,,,,,\\r\\n,,,,,,\\r\\n,,,,,,\\r\\n,,,,,,\\r\\n,,,,,,\\r\\n,,,,,,\\r\\n,,,,,,\\r\\n,,,,,,\\r\\n,,,,,,\\r\\n',\n",
              " 'Unemployment_Rate_upto_11_2020.csv': b'Region, Date, Frequency, Estimated Unemployment Rate (%), Estimated Employed, Estimated Labour Participation Rate (%),Region,longitude,latitude\\r\\nAndhra Pradesh, 31-01-2020, M,5.48,16635535,41.02,South,15.9129,79.7400\\r\\nAndhra Pradesh, 29-02-2020, M,5.83,16545652,40.9,South,15.9129,79.7400\\r\\nAndhra Pradesh, 31-03-2020, M,5.79,15881197,39.18,South,15.9129,79.7400\\r\\nAndhra Pradesh, 30-04-2020, M,20.51,11336911,33.1,South,15.9129,79.7400\\r\\nAndhra Pradesh, 31-05-2020, M,17.43,12988845,36.46,South,15.9129,79.7400\\r\\nAndhra Pradesh, 30-06-2020, M,3.31,19805400,47.41,South,15.9129,79.7400\\r\\nAndhra Pradesh, 31-07-2020, M,8.34,15431615,38.91,South,15.9129,79.7400\\r\\nAndhra Pradesh, 31-08-2020, M,6.96,15251776,37.83,South,15.9129,79.7400\\r\\nAndhra Pradesh, 30-09-2020, M,6.4,15220312,37.47,South,15.9129,79.7400\\r\\nAndhra Pradesh, 31-10-2020, M,6.59,15157557,37.34,South,15.9129,79.7400\\r\\nAssam, 31-01-2020, M,4.66,13051904,52.98,Northeast,26.2006,92.9376\\r\\nAssam, 29-02-2020, M,4.41,10088268,40.77,Northeast,26.2006,92.9376\\r\\nAssam, 31-03-2020, M,4.77,11542888,46.73,Northeast,26.2006,92.9376\\r\\nAssam, 30-04-2020, M,11.06,6830817,29.55,Northeast,26.2006,92.9376\\r\\nAssam, 31-05-2020, M,9.55,11367897,48.26,Northeast,26.2006,92.9376\\r\\nAssam, 30-06-2020, M,0.6,9095944,35.07,Northeast,26.2006,92.9376\\r\\nAssam, 31-07-2020, M,3.77,10286757,40.88,Northeast,26.2006,92.9376\\r\\nAssam, 31-08-2020, M,5.53,9781310,39.52,Northeast,26.2006,92.9376\\r\\nAssam, 30-09-2020, M,1.19,14107641,54.38,Northeast,26.2006,92.9376\\r\\nAssam, 31-10-2020, M,3.02,11949329,46.84,Northeast,26.2006,92.9376\\r\\nBihar, 31-01-2020, M,10.61,26397671,37.72,East,25.0961,85.3131\\r\\nBihar, 29-02-2020, M,10.29,26281655,37.35,East,25.0961,85.3131\\r\\nBihar, 31-03-2020, M,15.43,25717519,38.69,East,25.0961,85.3131\\r\\nBihar, 30-04-2020, M,46.64,16046236,38.17,East,25.0961,85.3131\\r\\nBihar, 31-05-2020, M,45.96,16280203,38.16,East,25.0961,85.3131\\r\\nBihar, 30-06-2020, M,17.82,23963933,36.86,East,25.0961,85.3131\\r\\nBihar, 31-07-2020, M,12.79,24989370,36.14,East,25.0961,85.3131\\r\\nBihar, 31-08-2020, M,13.44,23795534,34.59,East,25.0961,85.3131\\r\\nBihar, 30-09-2020, M,11.91,26902907,38.35,East,25.0961,85.3131\\r\\nBihar, 31-10-2020, M,9.82,25693252,35.7,East,25.0961,85.3131\\r\\nChhattisgarh, 31-01-2020, M,9.65,8552172,43.08,West,21.2787,81.8661\\r\\nChhattisgarh, 29-02-2020, M,8.38,9195114,45.58,West,21.2787,81.8661\\r\\nChhattisgarh, 31-03-2020, M,7.54,9302317,45.59,West,21.2787,81.8661\\r\\nChhattisgarh, 30-04-2020, M,3.41,7600448,35.58,West,21.2787,81.8661\\r\\nChhattisgarh, 31-05-2020, M,10.5,6991217,35.23,West,21.2787,81.8661\\r\\nChhattisgarh, 30-06-2020, M,14.23,7332807,38.48,West,21.2787,81.8661\\r\\nChhattisgarh, 31-07-2020, M,10.27,8620294,43.14,West,21.2787,81.8661\\r\\nChhattisgarh, 31-08-2020, M,5.63,9050422,42.97,West,21.2787,81.8661\\r\\nChhattisgarh, 30-09-2020, M,1.96,9021854,41.14,West,21.2787,81.8661\\r\\nChhattisgarh, 31-10-2020, M,6.62,8546847,40.82,West,21.2787,81.8661\\r\\nDelhi, 31-01-2020, M,22.23,5805284,47.79,North,28.7041,77.1025\\r\\nDelhi, 29-02-2020, M,14.84,5856307,43.92,North,28.7041,77.1025\\r\\nDelhi, 31-03-2020, M,17.04,5553805,42.65,North,28.7041,77.1025\\r\\nDelhi, 30-04-2020, M,16.68,3119274,23.8,North,28.7041,77.1025\\r\\nDelhi, 31-05-2020, M,42.27,2632404,28.91,North,28.7041,77.1025\\r\\nDelhi, 30-06-2020, M,18.19,4418914,34.17,North,28.7041,77.1025\\r\\nDelhi, 31-07-2020, M,20.3,4291053,33.97,North,28.7041,77.1025\\r\\nDelhi, 31-08-2020, M,13.79,4850107,35.41,North,28.7041,77.1025\\r\\nDelhi, 30-09-2020, M,12.53,4958373,35.59,North,28.7041,77.1025\\r\\nDelhi, 31-10-2020, M,6.27,4842698,32.36,North,28.7041,77.1025\\r\\nGoa, 31-01-2020, M,8.89,416750,35.73,West,15.2993,74.1240\\r\\nGoa, 29-02-2020, M,2.81,478068,38.38,West,15.2993,74.1240\\r\\nGoa, 31-03-2020, M,5.25,411761,33.88,West,15.2993,74.1240\\r\\nGoa, 30-04-2020, M,13.31,500614,44.97,West,15.2993,74.1240\\r\\nGoa, 31-05-2020, M,21.25,378244,37.36,West,15.2993,74.1240\\r\\nGoa, 30-06-2020, M,9.96,489111,42.21,West,15.2993,74.1240\\r\\nGoa, 31-07-2020, M,17.07,458876,42.94,West,15.2993,74.1240\\r\\nGoa, 31-08-2020, M,16.21,473016,43.76,West,15.2993,74.1240\\r\\nGoa, 30-09-2020, M,15.38,425004,38.89,West,15.2993,74.1240\\r\\nGoa, 31-10-2020, M,11.54,392304,34.3,West,15.2993,74.1240\\r\\nGujarat, 31-01-2020, M,5.54,24126346,48.49,West,22.2587,71.1924\\r\\nGujarat, 29-02-2020, M,6.38,24757795,50.11,West,22.2587,71.1924\\r\\nGujarat, 31-03-2020, M,6.66,23566641,47.75,West,22.2587,71.1924\\r\\nGujarat, 30-04-2020, M,18.71,15288878,35.5,West,22.2587,71.1924\\r\\nGujarat, 31-05-2020, M,12.11,17836936,38.23,West,22.2587,71.1924\\r\\nGujarat, 30-06-2020, M,3.2,23657055,45.96,West,22.2587,71.1924\\r\\nGujarat, 31-07-2020, M,1.84,24276120,46.41,West,22.2587,71.1924\\r\\nGujarat, 31-08-2020, M,1.87,22817232,43.55,West,22.2587,71.1924\\r\\nGujarat, 30-09-2020, M,3.42,25010199,48.41,West,22.2587,71.1924\\r\\nGujarat, 31-10-2020, M,4.03,25970259,50.49,West,22.2587,71.1924\\r\\nHaryana, 31-01-2020, M,20.34,7693231,43.36,North,29.0588,76.0856\\r\\nHaryana, 29-02-2020, M,25.77,7322942,44.21,North,29.0588,76.0856\\r\\nHaryana, 31-03-2020, M,25.05,6641555,39.63,North,29.0588,76.0856\\r\\nHaryana, 30-04-2020, M,43.22,5647630,44.38,North,29.0588,76.0856\\r\\nHaryana, 31-05-2020, M,29.02,6437868,40.39,North,29.0588,76.0856\\r\\nHaryana, 30-06-2020, M,26.7,6951934,42.14,North,29.0588,76.0856\\r\\nHaryana, 31-07-2020, M,24.18,6800652,39.77,North,29.0588,76.0856\\r\\nHaryana, 31-08-2020, M,33.5,7113788,47.32,North,29.0588,76.0856\\r\\nHaryana, 30-09-2020, M,19.68,7132439,39.2,North,29.0588,76.0856\\r\\nHaryana, 31-10-2020, M,27.31,6698551,40.6,North,29.0588,76.0856\\r\\nHimachal Pradesh, 31-01-2020, M,16.83,2287632,45.5,North,31.1048,77.1734\\r\\nHimachal Pradesh, 29-02-2020, M,16.84,2180268,43.3,North,31.1048,77.1734\\r\\nHimachal Pradesh, 31-03-2020, M,18.76,2021858,41.04,North,31.1048,77.1734\\r\\nHimachal Pradesh, 30-04-2020, M,2.2,1131128,19.04,North,31.1048,77.1734\\r\\nHimachal Pradesh, 31-05-2020, M,26.95,1897639,42.7,North,31.1048,77.1734\\r\\nHimachal Pradesh, 30-06-2020, M,13.47,2199683,41.72,North,31.1048,77.1734\\r\\nHimachal Pradesh, 31-07-2020, M,24.31,2229456,48.25,North,31.1048,77.1734\\r\\nHimachal Pradesh, 31-08-2020, M,15.79,2029740,39.42,North,31.1048,77.1734\\r\\nHimachal Pradesh, 30-09-2020, M,12.04,2237480,41.54,North,31.1048,77.1734\\r\\nHimachal Pradesh, 31-10-2020, M,13.46,2123965,40.01,North,31.1048,77.1734\\r\\nJammu & Kashmir, 31-01-2020, M,21.08,3453025,42.2,North,33.7782,76.5762\\r\\nJammu & Kashmir, 29-02-2020, M,20.78,3223513,39.17,North,33.7782,76.5762\\r\\nJammu & Kashmir, 31-03-2020, M,15.5,3359107,38.18,North,33.7782,76.5762\\r\\nJammu & Kashmir, 31-05-2020, M,18.74,3246493,38.21,North,33.7782,76.5762\\r\\nJammu & Kashmir, 30-06-2020, M,17.92,3202336,37.24,North,33.7782,76.5762\\r\\nJammu & Kashmir, 31-07-2020, M,10.88,3558889,38.03,North,33.7782,76.5762\\r\\nJammu & Kashmir, 31-08-2020, M,11.09,3429950,36.66,North,33.7782,76.5762\\r\\nJammu & Kashmir, 30-09-2020, M,16.17,3210281,36.31,North,33.7782,76.5762\\r\\nJammu & Kashmir, 31-10-2020, M,16.14,3106691,35.05,North,33.7782,76.5762\\r\\nJharkhand, 31-01-2020, M,10.61,10198029,42.92,East,23.6102,85.2799\\r\\nJharkhand, 29-02-2020, M,11.85,10425425,44.4,East,23.6102,85.2799\\r\\nJharkhand, 31-03-2020, M,8.23,9638115,39.34,East,23.6102,85.2799\\r\\nJharkhand, 30-04-2020, M,47.09,5335262,37.69,East,23.6102,85.2799\\r\\nJharkhand, 31-05-2020, M,59.23,4145385,37.92,East,23.6102,85.2799\\r\\nJharkhand, 30-06-2020, M,20.95,8622722,40.59,East,23.6102,85.2799\\r\\nJharkhand, 31-07-2020, M,7.63,9521900,38.27,East,23.6102,85.2799\\r\\nJharkhand, 31-08-2020, M,9.76,9331640,38.31,East,23.6102,85.2799\\r\\nJharkhand, 30-09-2020, M,8.24,10185670,41.04,East,23.6102,85.2799\\r\\nJharkhand, 31-10-2020, M,11.8,10302276,43.08,East,23.6102,85.2799\\r\\nKarnataka, 31-01-2020, M,2.86,22688028,42.18,South,15.3173,75.7139\\r\\nKarnataka, 29-02-2020, M,3.61,21677719,40.54,South,15.3173,75.7139\\r\\nKarnataka, 31-03-2020, M,3.46,22079653,41.14,South,15.3173,75.7139\\r\\nKarnataka, 30-04-2020, M,29.84,16718395,42.78,South,15.3173,75.7139\\r\\nKarnataka, 31-05-2020, M,19.97,19397853,43.43,South,15.3173,75.7139\\r\\nKarnataka, 30-06-2020, M,8.44,24215057,47.29,South,15.3173,75.7139\\r\\nKarnataka, 31-07-2020, M,4.01,22885616,42.55,South,15.3173,75.7139\\r\\nKarnataka, 31-08-2020, M,0.5,24094289,43.13,South,15.3173,75.7139\\r\\nKarnataka, 30-09-2020, M,2.41,20127176,36.66,South,15.3173,75.7139\\r\\nKarnataka, 31-10-2020, M,1.58,22356390,40.3,South,15.3173,75.7139\\r\\nKerala, 31-01-2020, M,5.31,9904534,37.12,South,10.8505,76.2711\\r\\nKerala, 29-02-2020, M,7.6,9828023,37.71,South,10.8505,76.2711\\r\\nKerala, 31-03-2020, M,8.99,8221728,32,South,10.8505,76.2711\\r\\nKerala, 30-04-2020, M,16.99,3933276,16.77,South,10.8505,76.2711\\r\\nKerala, 31-05-2020, M,17.88,7921962,34.11,South,10.8505,76.2711\\r\\nKerala, 30-06-2020, M,9.71,9228268,36.11,South,10.8505,76.2711\\r\\nKerala, 31-07-2020, M,7.09,9504420,36.1,South,10.8505,76.2711\\r\\nKerala, 31-08-2020, M,10.98,9031944,35.78,South,10.8505,76.2711\\r\\nKerala, 30-09-2020, M,5.91,9240913,34.6,South,10.8505,76.2711\\r\\nKerala, 31-10-2020, M,3.88,9152881,33.52,South,10.8505,76.2711\\r\\nMadhya Pradesh, 31-01-2020, M,4.11,23018632,39.42,West,22.9734,78.6569\\r\\nMadhya Pradesh, 29-02-2020, M,4.57,22711479,39,West,22.9734,78.6569\\r\\nMadhya Pradesh, 31-03-2020, M,2.22,22867164,38.24,West,22.9734,78.6569\\r\\nMadhya Pradesh, 30-04-2020, M,12.36,19041832,35.45,West,22.9734,78.6569\\r\\nMadhya Pradesh, 31-05-2020, M,21.98,18443927,38.48,West,22.9734,78.6569\\r\\nMadhya Pradesh, 30-06-2020, M,6.48,23054646,40.04,West,22.9734,78.6569\\r\\nMadhya Pradesh, 31-07-2020, M,5.08,23940158,40.88,West,22.9734,78.6569\\r\\nMadhya Pradesh, 31-08-2020, M,4.7,23619011,40.08,West,22.9734,78.6569\\r\\nMadhya Pradesh, 30-09-2020, M,3.91,23341952,39.2,West,22.9734,78.6569\\r\\nMadhya Pradesh, 31-10-2020, M,3.13,23144552,38.47,West,22.9734,78.6569\\r\\nMaharashtra, 31-01-2020, M,4.95,42596868,44.19,West,19.7515,75.7139\\r\\nMaharashtra, 29-02-2020, M,4.69,42416317,43.8,West,19.7515,75.7139\\r\\nMaharashtra, 31-03-2020, M,5.79,40196806,41.91,West,19.7515,75.7139\\r\\nMaharashtra, 30-04-2020, M,20.9,27689253,34.32,West,19.7515,75.7139\\r\\nMaharashtra, 31-05-2020, M,15.46,32116847,37.17,West,19.7515,75.7139\\r\\nMaharashtra, 30-06-2020, M,9.23,39708538,42.71,West,19.7515,75.7139\\r\\nMaharashtra, 31-07-2020, M,3.89,40998545,41.57,West,19.7515,75.7139\\r\\nMaharashtra, 31-08-2020, M,6.23,40963616,42.49,West,19.7515,75.7139\\r\\nMaharashtra, 30-09-2020, M,4.55,42042911,42.75,West,19.7515,75.7139\\r\\nMaharashtra, 31-10-2020, M,4.1,43317881,43.75,West,19.7515,75.7139\\r\\nMeghalaya, 31-01-2020, M,1.66,1491093,65.49,Northeast,25.4670,91.3662\\r\\nMeghalaya, 29-02-2020, M,3.59,1346829,60.2,Northeast,25.4670,91.3662\\r\\nMeghalaya, 31-03-2020, M,1.58,1482351,64.74,Northeast,25.4670,91.3662\\r\\nMeghalaya, 30-04-2020, M,10.03,965057,45.99,Northeast,25.4670,91.3662\\r\\nMeghalaya, 31-05-2020, M,5.92,1215064,55.24,Northeast,25.4670,91.3662\\r\\nMeghalaya, 30-06-2020, M,1.15,1350794,58.31,Northeast,25.4670,91.3662\\r\\nMeghalaya, 31-07-2020, M,2.1,1448106,62.96,Northeast,25.4670,91.3662\\r\\nMeghalaya, 31-08-2020, M,3.74,1357643,59.88,Northeast,25.4670,91.3662\\r\\nMeghalaya, 30-09-2020, M,4.29,1459726,64.6,Northeast,25.4670,91.3662\\r\\nMeghalaya, 31-10-2020, M,4.6,1381490,61.18,Northeast,25.4670,91.3662\\r\\nOdisha, 31-01-2020, M,1.9,13743448,39.44,East,20.9517,85.0985\\r\\nOdisha, 29-02-2020, M,3.12,14280735,41.44,East,20.9517,85.0985\\r\\nOdisha, 31-03-2020, M,13.08,12272109,39.62,East,20.9517,85.0985\\r\\nOdisha, 30-04-2020, M,23.76,6865693,25.23,East,20.9517,85.0985\\r\\nOdisha, 31-05-2020, M,11.41,11730937,37.04,East,20.9517,85.0985\\r\\nOdisha, 30-06-2020, M,3.77,12903993,37.45,East,20.9517,85.0985\\r\\nOdisha, 31-07-2020, M,1.88,13614400,38.69,East,20.9517,85.0985\\r\\nOdisha, 31-08-2020, M,1.42,14154039,39.96,East,20.9517,85.0985\\r\\nOdisha, 30-09-2020, M,2.1,13608422,38.63,East,20.9517,85.0985\\r\\nOdisha, 31-10-2020, M,2.18,14094553,39.98,East,20.9517,85.0985\\r\\nPuducherry, 31-01-2020, M,0.58,457950,37.46,South,11.9416,79.8083\\r\\nPuducherry, 29-02-2020, M,1.76,493961,40.8,South,11.9416,79.8083\\r\\nPuducherry, 31-03-2020, M,1.2,421028,34.49,South,11.9416,79.8083\\r\\nPuducherry, 30-04-2020, M,75.85,117542,39.3,South,11.9416,79.8083\\r\\nPuducherry, 31-05-2020, M,58.19,172308,33.19,South,11.9416,79.8083\\r\\nPuducherry, 30-06-2020, M,4.24,367135,30.8,South,11.9416,79.8083\\r\\nPuducherry, 31-07-2020, M,15.47,386563,36.64,South,11.9416,79.8083\\r\\nPuducherry, 31-08-2020, M,5.05,396006,33.34,South,11.9416,79.8083\\r\\nPuducherry, 30-09-2020, M,10.9,411717,36.84,South,11.9416,79.8083\\r\\nPuducherry, 31-10-2020, M,6.18,428419,36.32,South,11.9416,79.8083\\r\\nPunjab, 31-01-2020, M,11.11,9442093,42.82,North,31.1471,75.3412\\r\\nPunjab, 29-02-2020, M,10.97,9229047,41.72,North,31.1471,75.3412\\r\\nPunjab, 31-03-2020, M,10.32,9975485,44.69,North,31.1471,75.3412\\r\\nPunjab, 30-04-2020, M,2.86,7020565,28.99,North,31.1471,75.3412\\r\\nPunjab, 31-05-2020, M,28.33,6872938,38.39,North,31.1471,75.3412\\r\\nPunjab, 30-06-2020, M,16.55,8390766,40.18,North,31.1471,75.3412\\r\\nPunjab, 31-07-2020, M,9.19,9732417,42.76,North,31.1471,75.3412\\r\\nPunjab, 31-08-2020, M,10.99,9386169,41.99,North,31.1471,75.3412\\r\\nPunjab, 30-09-2020, M,9.61,8980432,39.5,North,31.1471,75.3412\\r\\nPunjab, 31-10-2020, M,9.88,8800430,38.75,North,31.1471,75.3412\\r\\nRajasthan, 31-01-2020, M,10.97,20641716,40.51,North,27.0238,74.2179\\r\\nRajasthan, 29-02-2020, M,15.16,20328915,41.77,North,27.0238,74.2179\\r\\nRajasthan, 31-03-2020, M,11.9,20024680,39.54,North,27.0238,74.2179\\r\\nRajasthan, 30-04-2020, M,17.7,15984142,33.71,North,27.0238,74.2179\\r\\nRajasthan, 31-05-2020, M,15.74,19826602,40.74,North,27.0238,74.2179\\r\\nRajasthan, 30-06-2020, M,14.39,20506612,41.38,North,27.0238,74.2179\\r\\nRajasthan, 31-07-2020, M,15.81,19932393,40.8,North,27.0238,74.2179\\r\\nRajasthan, 31-08-2020, M,17.51,20014060,41.71,North,27.0238,74.2179\\r\\nRajasthan, 30-09-2020, M,15.35,20149594,40.83,North,27.0238,74.2179\\r\\nRajasthan, 31-10-2020, M,24.15,19908808,44.92,North,27.0238,74.2179\\r\\nSikkim, 31-03-2020, M,23.57,262895,60.59,Northeast,27.5330,88.5122\\r\\nSikkim, 30-04-2020, M,2.28,215303,38.7,Northeast,27.5330,88.5122\\r\\nSikkim, 31-05-2020, M,24.51,193427,44.88,Northeast,27.5330,88.5122\\r\\nSikkim, 30-06-2020, M,4.46,221058,40.4,Northeast,27.5330,88.5122\\r\\nSikkim, 31-07-2020, M,4.45,265175,48.32,Northeast,27.5330,88.5122\\r\\nSikkim, 31-08-2020, M,12.49,244462,48.49,Northeast,27.5330,88.5122\\r\\nSikkim, 30-09-2020, M,5.7,231798,42.54,Northeast,27.5330,88.5122\\r\\nSikkim, 31-10-2020, M,0.88,242068,42.13,Northeast,27.5330,88.5122\\r\\nTamil Nadu, 31-01-2020, M,1.57,26881641,41.96,South,11.1271,78.6569\\r\\nTamil Nadu, 29-02-2020, M,2.09,27570589,43.2,South,11.1271,78.6569\\r\\nTamil Nadu, 31-03-2020, M,6.4,26830768,43.91,South,11.1271,78.6569\\r\\nTamil Nadu, 30-04-2020, M,49.83,9719167,29.63,South,11.1271,78.6569\\r\\nTamil Nadu, 31-05-2020, M,33.16,11483256,26.23,South,11.1271,78.6569\\r\\nTamil Nadu, 30-06-2020, M,12.2,19096847,33.16,South,11.1271,78.6569\\r\\nTamil Nadu, 31-07-2020, M,6.81,24572827,40.13,South,11.1271,78.6569\\r\\nTamil Nadu, 31-08-2020, M,2.65,27046415,42.22,South,11.1271,78.6569\\r\\nTamil Nadu, 30-09-2020, M,5,23025845,36.77,South,11.1271,78.6569\\r\\nTamil Nadu, 31-10-2020, M,2.16,23651626,36.62,South,11.1271,78.6569\\r\\nTelangana, 31-01-2020, M,5.49,17609295,59.25,South,18.1124,79.0193\\r\\nTelangana, 29-02-2020, M,8.29,16825970,58.24,South,18.1124,79.0193\\r\\nTelangana, 31-03-2020, M,5.77,17341613,58.31,South,18.1124,79.0193\\r\\nTelangana, 30-04-2020, M,6.25,12172230,41.06,South,18.1124,79.0193\\r\\nTelangana, 31-05-2020, M,14.7,14977774,55.43,South,18.1124,79.0193\\r\\nTelangana, 30-06-2020, M,10.55,15108910,53.22,South,18.1124,79.0193\\r\\nTelangana, 31-07-2020, M,5.36,15679417,52.1,South,18.1124,79.0193\\r\\nTelangana, 31-08-2020, M,5.79,18185429,60.59,South,18.1124,79.0193\\r\\nTelangana, 30-09-2020, M,3.27,16961448,54.94,South,18.1124,79.0193\\r\\nTelangana, 31-10-2020, M,2.86,17578739,56.58,South,18.1124,79.0193\\r\\nTripura, 31-01-2020, M,32.67,1508130,69.69,Northeast,23.9408,91.9882\\r\\nTripura, 29-02-2020, M,28.4,1584686,68.74,Northeast,23.9408,91.9882\\r\\nTripura, 31-03-2020, M,29.95,1511217,66.89,Northeast,23.9408,91.9882\\r\\nTripura, 30-04-2020, M,41.23,971514,51.16,Northeast,23.9408,91.9882\\r\\nTripura, 31-05-2020, M,21.51,1290986,50.81,Northeast,23.9408,91.9882\\r\\nTripura, 30-06-2020, M,21.71,1494140,58.85,Northeast,23.9408,91.9882\\r\\nTripura, 31-07-2020, M,18.24,1348849,50.78,Northeast,23.9408,91.9882\\r\\nTripura, 31-08-2020, M,27.92,1318621,56.21,Northeast,23.9408,91.9882\\r\\nTripura, 30-09-2020, M,17.35,1368244,50.77,Northeast,23.9408,91.9882\\r\\nTripura, 31-10-2020, M,11.57,1576529,54.58,Northeast,23.9408,91.9882\\r\\nUttar Pradesh, 31-01-2020, M,7.58,59433759,39.63,North,26.8467,80.9462\\r\\nUttar Pradesh, 29-02-2020, M,8.98,58060531,39.23,North,26.8467,80.9462\\r\\nUttar Pradesh, 31-03-2020, M,10.11,56976338,38.89,North,26.8467,80.9462\\r\\nUttar Pradesh, 30-04-2020, M,21.54,50915056,39.73,North,26.8467,80.9462\\r\\nUttar Pradesh, 31-05-2020, M,20.41,49801902,38.22,North,26.8467,80.9462\\r\\nUttar Pradesh, 30-06-2020, M,9.47,55380649,37.29,North,26.8467,80.9462\\r\\nUttar Pradesh, 31-07-2020, M,5.56,56201654,36.19,North,26.8467,80.9462\\r\\nUttar Pradesh, 31-08-2020, M,5.79,55831744,35.96,North,26.8467,80.9462\\r\\nUttar Pradesh, 30-09-2020, M,4.18,56106836,35.45,North,26.8467,80.9462\\r\\nUttar Pradesh, 31-10-2020, M,3.75,56539521,35.49,North,26.8467,80.9462\\r\\nUttarakhand, 31-01-2020, M,5.49,2711639,32.99,North,30.0668,79.0193\\r\\nUttarakhand, 29-02-2020, M,4.99,3020931,36.48,North,30.0668,79.0193\\r\\nUttarakhand, 31-03-2020, M,19.85,2539302,36.27,North,30.0668,79.0193\\r\\nUttarakhand, 30-04-2020, M,6.48,2720115,33.23,North,30.0668,79.0193\\r\\nUttarakhand, 31-05-2020, M,8.01,2694072,33.38,North,30.0668,79.0193\\r\\nUttarakhand, 30-06-2020, M,8.61,2656071,33.06,North,30.0668,79.0193\\r\\nUttarakhand, 31-07-2020, M,12.38,2938552,38.07,North,30.0668,79.0193\\r\\nUttarakhand, 31-08-2020, M,14.26,2717528,35.9,North,30.0668,79.0193\\r\\nUttarakhand, 30-09-2020, M,22.26,2695230,39.18,North,30.0668,79.0193\\r\\nUttarakhand, 31-10-2020, M,9.23,2739309,34.03,North,30.0668,79.0193\\r\\nWest Bengal, 31-01-2020, M,6.94,35820789,47.35,East,22.9868,87.8550\\r\\nWest Bengal, 29-02-2020, M,4.92,36964178,47.74,East,22.9868,87.8550\\r\\nWest Bengal, 31-03-2020, M,6.92,35903917,47.27,East,22.9868,87.8550\\r\\nWest Bengal, 30-04-2020, M,17.41,26938836,39.9,East,22.9868,87.8550\\r\\nWest Bengal, 31-05-2020, M,17.41,28356675,41.92,East,22.9868,87.8550\\r\\nWest Bengal, 30-06-2020, M,7.29,30726310,40.39,East,22.9868,87.8550\\r\\nWest Bengal, 31-07-2020, M,6.83,35372506,46.17,East,22.9868,87.8550\\r\\nWest Bengal, 31-08-2020, M,14.87,33298644,47.48,East,22.9868,87.8550\\r\\nWest Bengal, 30-09-2020, M,9.35,35707239,47.73,East,22.9868,87.8550\\r\\nWest Bengal, 31-10-2020, M,9.98,33962549,45.63,East,22.9868,87.8550\\r\\n'}"
            ]
          },
          "metadata": {},
          "execution_count": 11
        }
      ]
    },
    {
      "cell_type": "markdown",
      "source": [
        "**Reading files**"
      ],
      "metadata": {
        "id": "r4gP08oRuX7u"
      }
    },
    {
      "cell_type": "markdown",
      "source": [],
      "metadata": {
        "id": "7N7odGqXuXjv"
      }
    },
    {
      "cell_type": "code",
      "source": [
        "import pandas as pd\n",
        "data1 = pd.read_csv(\"Unemployment in India.csv\")\n",
        "data2 = pd.read_csv(\"Unemployment_Rate_upto_11_2020.csv\")"
      ],
      "metadata": {
        "id": "_mbOQXvmGHSL"
      },
      "execution_count": null,
      "outputs": []
    },
    {
      "cell_type": "markdown",
      "source": [
        "**Describe**"
      ],
      "metadata": {
        "id": "1vH_drbTuf80"
      }
    },
    {
      "cell_type": "code",
      "source": [
        "data1.head()\n"
      ],
      "metadata": {
        "colab": {
          "base_uri": "https://localhost:8080/",
          "height": 206
        },
        "id": "ih2VhlMKGHJu",
        "outputId": "c6613862-7aaf-447d-aa69-57e82bd3bba5"
      },
      "execution_count": null,
      "outputs": [
        {
          "output_type": "execute_result",
          "data": {
            "text/plain": [
              "           Region         Date  Frequency   Estimated Unemployment Rate (%)  \\\n",
              "0  Andhra Pradesh   31-05-2019    Monthly                              3.65   \n",
              "1  Andhra Pradesh   30-06-2019    Monthly                              3.05   \n",
              "2  Andhra Pradesh   31-07-2019    Monthly                              3.75   \n",
              "3  Andhra Pradesh   31-08-2019    Monthly                              3.32   \n",
              "4  Andhra Pradesh   30-09-2019    Monthly                              5.17   \n",
              "\n",
              "    Estimated Employed   Estimated Labour Participation Rate (%)   Area  \n",
              "0           11999139.0                                     43.24  Rural  \n",
              "1           11755881.0                                     42.05  Rural  \n",
              "2           12086707.0                                     43.50  Rural  \n",
              "3           12285693.0                                     43.97  Rural  \n",
              "4           12256762.0                                     44.68  Rural  "
            ],
            "text/html": [
              "\n",
              "  <div id=\"df-c9ef6871-4eee-486d-827e-f5fac80905e3\">\n",
              "    <div class=\"colab-df-container\">\n",
              "      <div>\n",
              "<style scoped>\n",
              "    .dataframe tbody tr th:only-of-type {\n",
              "        vertical-align: middle;\n",
              "    }\n",
              "\n",
              "    .dataframe tbody tr th {\n",
              "        vertical-align: top;\n",
              "    }\n",
              "\n",
              "    .dataframe thead th {\n",
              "        text-align: right;\n",
              "    }\n",
              "</style>\n",
              "<table border=\"1\" class=\"dataframe\">\n",
              "  <thead>\n",
              "    <tr style=\"text-align: right;\">\n",
              "      <th></th>\n",
              "      <th>Region</th>\n",
              "      <th>Date</th>\n",
              "      <th>Frequency</th>\n",
              "      <th>Estimated Unemployment Rate (%)</th>\n",
              "      <th>Estimated Employed</th>\n",
              "      <th>Estimated Labour Participation Rate (%)</th>\n",
              "      <th>Area</th>\n",
              "    </tr>\n",
              "  </thead>\n",
              "  <tbody>\n",
              "    <tr>\n",
              "      <th>0</th>\n",
              "      <td>Andhra Pradesh</td>\n",
              "      <td>31-05-2019</td>\n",
              "      <td>Monthly</td>\n",
              "      <td>3.65</td>\n",
              "      <td>11999139.0</td>\n",
              "      <td>43.24</td>\n",
              "      <td>Rural</td>\n",
              "    </tr>\n",
              "    <tr>\n",
              "      <th>1</th>\n",
              "      <td>Andhra Pradesh</td>\n",
              "      <td>30-06-2019</td>\n",
              "      <td>Monthly</td>\n",
              "      <td>3.05</td>\n",
              "      <td>11755881.0</td>\n",
              "      <td>42.05</td>\n",
              "      <td>Rural</td>\n",
              "    </tr>\n",
              "    <tr>\n",
              "      <th>2</th>\n",
              "      <td>Andhra Pradesh</td>\n",
              "      <td>31-07-2019</td>\n",
              "      <td>Monthly</td>\n",
              "      <td>3.75</td>\n",
              "      <td>12086707.0</td>\n",
              "      <td>43.50</td>\n",
              "      <td>Rural</td>\n",
              "    </tr>\n",
              "    <tr>\n",
              "      <th>3</th>\n",
              "      <td>Andhra Pradesh</td>\n",
              "      <td>31-08-2019</td>\n",
              "      <td>Monthly</td>\n",
              "      <td>3.32</td>\n",
              "      <td>12285693.0</td>\n",
              "      <td>43.97</td>\n",
              "      <td>Rural</td>\n",
              "    </tr>\n",
              "    <tr>\n",
              "      <th>4</th>\n",
              "      <td>Andhra Pradesh</td>\n",
              "      <td>30-09-2019</td>\n",
              "      <td>Monthly</td>\n",
              "      <td>5.17</td>\n",
              "      <td>12256762.0</td>\n",
              "      <td>44.68</td>\n",
              "      <td>Rural</td>\n",
              "    </tr>\n",
              "  </tbody>\n",
              "</table>\n",
              "</div>\n",
              "      <button class=\"colab-df-convert\" onclick=\"convertToInteractive('df-c9ef6871-4eee-486d-827e-f5fac80905e3')\"\n",
              "              title=\"Convert this dataframe to an interactive table.\"\n",
              "              style=\"display:none;\">\n",
              "        \n",
              "  <svg xmlns=\"http://www.w3.org/2000/svg\" height=\"24px\"viewBox=\"0 0 24 24\"\n",
              "       width=\"24px\">\n",
              "    <path d=\"M0 0h24v24H0V0z\" fill=\"none\"/>\n",
              "    <path d=\"M18.56 5.44l.94 2.06.94-2.06 2.06-.94-2.06-.94-.94-2.06-.94 2.06-2.06.94zm-11 1L8.5 8.5l.94-2.06 2.06-.94-2.06-.94L8.5 2.5l-.94 2.06-2.06.94zm10 10l.94 2.06.94-2.06 2.06-.94-2.06-.94-.94-2.06-.94 2.06-2.06.94z\"/><path d=\"M17.41 7.96l-1.37-1.37c-.4-.4-.92-.59-1.43-.59-.52 0-1.04.2-1.43.59L10.3 9.45l-7.72 7.72c-.78.78-.78 2.05 0 2.83L4 21.41c.39.39.9.59 1.41.59.51 0 1.02-.2 1.41-.59l7.78-7.78 2.81-2.81c.8-.78.8-2.07 0-2.86zM5.41 20L4 18.59l7.72-7.72 1.47 1.35L5.41 20z\"/>\n",
              "  </svg>\n",
              "      </button>\n",
              "      \n",
              "  <style>\n",
              "    .colab-df-container {\n",
              "      display:flex;\n",
              "      flex-wrap:wrap;\n",
              "      gap: 12px;\n",
              "    }\n",
              "\n",
              "    .colab-df-convert {\n",
              "      background-color: #E8F0FE;\n",
              "      border: none;\n",
              "      border-radius: 50%;\n",
              "      cursor: pointer;\n",
              "      display: none;\n",
              "      fill: #1967D2;\n",
              "      height: 32px;\n",
              "      padding: 0 0 0 0;\n",
              "      width: 32px;\n",
              "    }\n",
              "\n",
              "    .colab-df-convert:hover {\n",
              "      background-color: #E2EBFA;\n",
              "      box-shadow: 0px 1px 2px rgba(60, 64, 67, 0.3), 0px 1px 3px 1px rgba(60, 64, 67, 0.15);\n",
              "      fill: #174EA6;\n",
              "    }\n",
              "\n",
              "    [theme=dark] .colab-df-convert {\n",
              "      background-color: #3B4455;\n",
              "      fill: #D2E3FC;\n",
              "    }\n",
              "\n",
              "    [theme=dark] .colab-df-convert:hover {\n",
              "      background-color: #434B5C;\n",
              "      box-shadow: 0px 1px 3px 1px rgba(0, 0, 0, 0.15);\n",
              "      filter: drop-shadow(0px 1px 2px rgba(0, 0, 0, 0.3));\n",
              "      fill: #FFFFFF;\n",
              "    }\n",
              "  </style>\n",
              "\n",
              "      <script>\n",
              "        const buttonEl =\n",
              "          document.querySelector('#df-c9ef6871-4eee-486d-827e-f5fac80905e3 button.colab-df-convert');\n",
              "        buttonEl.style.display =\n",
              "          google.colab.kernel.accessAllowed ? 'block' : 'none';\n",
              "\n",
              "        async function convertToInteractive(key) {\n",
              "          const element = document.querySelector('#df-c9ef6871-4eee-486d-827e-f5fac80905e3');\n",
              "          const dataTable =\n",
              "            await google.colab.kernel.invokeFunction('convertToInteractive',\n",
              "                                                     [key], {});\n",
              "          if (!dataTable) return;\n",
              "\n",
              "          const docLinkHtml = 'Like what you see? Visit the ' +\n",
              "            '<a target=\"_blank\" href=https://colab.research.google.com/notebooks/data_table.ipynb>data table notebook</a>'\n",
              "            + ' to learn more about interactive tables.';\n",
              "          element.innerHTML = '';\n",
              "          dataTable['output_type'] = 'display_data';\n",
              "          await google.colab.output.renderOutput(dataTable, element);\n",
              "          const docLink = document.createElement('div');\n",
              "          docLink.innerHTML = docLinkHtml;\n",
              "          element.appendChild(docLink);\n",
              "        }\n",
              "      </script>\n",
              "    </div>\n",
              "  </div>\n",
              "  "
            ]
          },
          "metadata": {},
          "execution_count": 14
        }
      ]
    },
    {
      "cell_type": "code",
      "source": [
        "data2.head()"
      ],
      "metadata": {
        "colab": {
          "base_uri": "https://localhost:8080/",
          "height": 206
        },
        "id": "BHI2pArtNcBy",
        "outputId": "43262d02-5a6f-437d-aa97-b22cb672bd53"
      },
      "execution_count": null,
      "outputs": [
        {
          "output_type": "execute_result",
          "data": {
            "text/plain": [
              "           Region         Date  Frequency   Estimated Unemployment Rate (%)  \\\n",
              "0  Andhra Pradesh   31-01-2020          M                              5.48   \n",
              "1  Andhra Pradesh   29-02-2020          M                              5.83   \n",
              "2  Andhra Pradesh   31-03-2020          M                              5.79   \n",
              "3  Andhra Pradesh   30-04-2020          M                             20.51   \n",
              "4  Andhra Pradesh   31-05-2020          M                             17.43   \n",
              "\n",
              "    Estimated Employed   Estimated Labour Participation Rate (%) Region.1  \\\n",
              "0             16635535                                     41.02    South   \n",
              "1             16545652                                     40.90    South   \n",
              "2             15881197                                     39.18    South   \n",
              "3             11336911                                     33.10    South   \n",
              "4             12988845                                     36.46    South   \n",
              "\n",
              "   longitude  latitude  \n",
              "0    15.9129     79.74  \n",
              "1    15.9129     79.74  \n",
              "2    15.9129     79.74  \n",
              "3    15.9129     79.74  \n",
              "4    15.9129     79.74  "
            ],
            "text/html": [
              "\n",
              "  <div id=\"df-fb8c59f4-5219-4c00-8729-f5ec50a1ff42\">\n",
              "    <div class=\"colab-df-container\">\n",
              "      <div>\n",
              "<style scoped>\n",
              "    .dataframe tbody tr th:only-of-type {\n",
              "        vertical-align: middle;\n",
              "    }\n",
              "\n",
              "    .dataframe tbody tr th {\n",
              "        vertical-align: top;\n",
              "    }\n",
              "\n",
              "    .dataframe thead th {\n",
              "        text-align: right;\n",
              "    }\n",
              "</style>\n",
              "<table border=\"1\" class=\"dataframe\">\n",
              "  <thead>\n",
              "    <tr style=\"text-align: right;\">\n",
              "      <th></th>\n",
              "      <th>Region</th>\n",
              "      <th>Date</th>\n",
              "      <th>Frequency</th>\n",
              "      <th>Estimated Unemployment Rate (%)</th>\n",
              "      <th>Estimated Employed</th>\n",
              "      <th>Estimated Labour Participation Rate (%)</th>\n",
              "      <th>Region.1</th>\n",
              "      <th>longitude</th>\n",
              "      <th>latitude</th>\n",
              "    </tr>\n",
              "  </thead>\n",
              "  <tbody>\n",
              "    <tr>\n",
              "      <th>0</th>\n",
              "      <td>Andhra Pradesh</td>\n",
              "      <td>31-01-2020</td>\n",
              "      <td>M</td>\n",
              "      <td>5.48</td>\n",
              "      <td>16635535</td>\n",
              "      <td>41.02</td>\n",
              "      <td>South</td>\n",
              "      <td>15.9129</td>\n",
              "      <td>79.74</td>\n",
              "    </tr>\n",
              "    <tr>\n",
              "      <th>1</th>\n",
              "      <td>Andhra Pradesh</td>\n",
              "      <td>29-02-2020</td>\n",
              "      <td>M</td>\n",
              "      <td>5.83</td>\n",
              "      <td>16545652</td>\n",
              "      <td>40.90</td>\n",
              "      <td>South</td>\n",
              "      <td>15.9129</td>\n",
              "      <td>79.74</td>\n",
              "    </tr>\n",
              "    <tr>\n",
              "      <th>2</th>\n",
              "      <td>Andhra Pradesh</td>\n",
              "      <td>31-03-2020</td>\n",
              "      <td>M</td>\n",
              "      <td>5.79</td>\n",
              "      <td>15881197</td>\n",
              "      <td>39.18</td>\n",
              "      <td>South</td>\n",
              "      <td>15.9129</td>\n",
              "      <td>79.74</td>\n",
              "    </tr>\n",
              "    <tr>\n",
              "      <th>3</th>\n",
              "      <td>Andhra Pradesh</td>\n",
              "      <td>30-04-2020</td>\n",
              "      <td>M</td>\n",
              "      <td>20.51</td>\n",
              "      <td>11336911</td>\n",
              "      <td>33.10</td>\n",
              "      <td>South</td>\n",
              "      <td>15.9129</td>\n",
              "      <td>79.74</td>\n",
              "    </tr>\n",
              "    <tr>\n",
              "      <th>4</th>\n",
              "      <td>Andhra Pradesh</td>\n",
              "      <td>31-05-2020</td>\n",
              "      <td>M</td>\n",
              "      <td>17.43</td>\n",
              "      <td>12988845</td>\n",
              "      <td>36.46</td>\n",
              "      <td>South</td>\n",
              "      <td>15.9129</td>\n",
              "      <td>79.74</td>\n",
              "    </tr>\n",
              "  </tbody>\n",
              "</table>\n",
              "</div>\n",
              "      <button class=\"colab-df-convert\" onclick=\"convertToInteractive('df-fb8c59f4-5219-4c00-8729-f5ec50a1ff42')\"\n",
              "              title=\"Convert this dataframe to an interactive table.\"\n",
              "              style=\"display:none;\">\n",
              "        \n",
              "  <svg xmlns=\"http://www.w3.org/2000/svg\" height=\"24px\"viewBox=\"0 0 24 24\"\n",
              "       width=\"24px\">\n",
              "    <path d=\"M0 0h24v24H0V0z\" fill=\"none\"/>\n",
              "    <path d=\"M18.56 5.44l.94 2.06.94-2.06 2.06-.94-2.06-.94-.94-2.06-.94 2.06-2.06.94zm-11 1L8.5 8.5l.94-2.06 2.06-.94-2.06-.94L8.5 2.5l-.94 2.06-2.06.94zm10 10l.94 2.06.94-2.06 2.06-.94-2.06-.94-.94-2.06-.94 2.06-2.06.94z\"/><path d=\"M17.41 7.96l-1.37-1.37c-.4-.4-.92-.59-1.43-.59-.52 0-1.04.2-1.43.59L10.3 9.45l-7.72 7.72c-.78.78-.78 2.05 0 2.83L4 21.41c.39.39.9.59 1.41.59.51 0 1.02-.2 1.41-.59l7.78-7.78 2.81-2.81c.8-.78.8-2.07 0-2.86zM5.41 20L4 18.59l7.72-7.72 1.47 1.35L5.41 20z\"/>\n",
              "  </svg>\n",
              "      </button>\n",
              "      \n",
              "  <style>\n",
              "    .colab-df-container {\n",
              "      display:flex;\n",
              "      flex-wrap:wrap;\n",
              "      gap: 12px;\n",
              "    }\n",
              "\n",
              "    .colab-df-convert {\n",
              "      background-color: #E8F0FE;\n",
              "      border: none;\n",
              "      border-radius: 50%;\n",
              "      cursor: pointer;\n",
              "      display: none;\n",
              "      fill: #1967D2;\n",
              "      height: 32px;\n",
              "      padding: 0 0 0 0;\n",
              "      width: 32px;\n",
              "    }\n",
              "\n",
              "    .colab-df-convert:hover {\n",
              "      background-color: #E2EBFA;\n",
              "      box-shadow: 0px 1px 2px rgba(60, 64, 67, 0.3), 0px 1px 3px 1px rgba(60, 64, 67, 0.15);\n",
              "      fill: #174EA6;\n",
              "    }\n",
              "\n",
              "    [theme=dark] .colab-df-convert {\n",
              "      background-color: #3B4455;\n",
              "      fill: #D2E3FC;\n",
              "    }\n",
              "\n",
              "    [theme=dark] .colab-df-convert:hover {\n",
              "      background-color: #434B5C;\n",
              "      box-shadow: 0px 1px 3px 1px rgba(0, 0, 0, 0.15);\n",
              "      filter: drop-shadow(0px 1px 2px rgba(0, 0, 0, 0.3));\n",
              "      fill: #FFFFFF;\n",
              "    }\n",
              "  </style>\n",
              "\n",
              "      <script>\n",
              "        const buttonEl =\n",
              "          document.querySelector('#df-fb8c59f4-5219-4c00-8729-f5ec50a1ff42 button.colab-df-convert');\n",
              "        buttonEl.style.display =\n",
              "          google.colab.kernel.accessAllowed ? 'block' : 'none';\n",
              "\n",
              "        async function convertToInteractive(key) {\n",
              "          const element = document.querySelector('#df-fb8c59f4-5219-4c00-8729-f5ec50a1ff42');\n",
              "          const dataTable =\n",
              "            await google.colab.kernel.invokeFunction('convertToInteractive',\n",
              "                                                     [key], {});\n",
              "          if (!dataTable) return;\n",
              "\n",
              "          const docLinkHtml = 'Like what you see? Visit the ' +\n",
              "            '<a target=\"_blank\" href=https://colab.research.google.com/notebooks/data_table.ipynb>data table notebook</a>'\n",
              "            + ' to learn more about interactive tables.';\n",
              "          element.innerHTML = '';\n",
              "          dataTable['output_type'] = 'display_data';\n",
              "          await google.colab.output.renderOutput(dataTable, element);\n",
              "          const docLink = document.createElement('div');\n",
              "          docLink.innerHTML = docLinkHtml;\n",
              "          element.appendChild(docLink);\n",
              "        }\n",
              "      </script>\n",
              "    </div>\n",
              "  </div>\n",
              "  "
            ]
          },
          "metadata": {},
          "execution_count": 15
        }
      ]
    },
    {
      "cell_type": "markdown",
      "source": [
        "**Size of both dataset**"
      ],
      "metadata": {
        "id": "q41RSVDrulba"
      }
    },
    {
      "cell_type": "code",
      "source": [
        "print(data1.shape)\n",
        "print(data1.size)"
      ],
      "metadata": {
        "colab": {
          "base_uri": "https://localhost:8080/"
        },
        "id": "r1K4Qt0zHCVJ",
        "outputId": "11eb01d2-943d-42ef-eb59-1c318453cc35"
      },
      "execution_count": null,
      "outputs": [
        {
          "output_type": "stream",
          "name": "stdout",
          "text": [
            "(768, 7)\n",
            "5376\n"
          ]
        }
      ]
    },
    {
      "cell_type": "code",
      "source": [
        "print(data2.shape)\n",
        "print(data2.size)"
      ],
      "metadata": {
        "colab": {
          "base_uri": "https://localhost:8080/"
        },
        "id": "uNuCTNtsNhv7",
        "outputId": "a421a461-ce9b-4d5f-e500-3b975a320ae4"
      },
      "execution_count": null,
      "outputs": [
        {
          "output_type": "stream",
          "name": "stdout",
          "text": [
            "(267, 9)\n",
            "2403\n"
          ]
        }
      ]
    },
    {
      "cell_type": "markdown",
      "source": [
        "**checking for missing values**"
      ],
      "metadata": {
        "id": "L2KmBM65uw12"
      }
    },
    {
      "cell_type": "code",
      "source": [
        "data1.isnull().sum()\n"
      ],
      "metadata": {
        "colab": {
          "base_uri": "https://localhost:8080/"
        },
        "id": "nsJiWeAMHPrU",
        "outputId": "0403cabf-fffe-433a-f261-2462baf2fda1"
      },
      "execution_count": null,
      "outputs": [
        {
          "output_type": "execute_result",
          "data": {
            "text/plain": [
              "Region                                      28\n",
              " Date                                       28\n",
              " Frequency                                  28\n",
              " Estimated Unemployment Rate (%)            28\n",
              " Estimated Employed                         28\n",
              " Estimated Labour Participation Rate (%)    28\n",
              "Area                                        28\n",
              "dtype: int64"
            ]
          },
          "metadata": {},
          "execution_count": 20
        }
      ]
    },
    {
      "cell_type": "code",
      "source": [
        "data2.isnull().sum()"
      ],
      "metadata": {
        "colab": {
          "base_uri": "https://localhost:8080/"
        },
        "id": "kfSbSX8jNuLi",
        "outputId": "1f769ded-b05a-4cdd-e9be-7c00d38fbd97"
      },
      "execution_count": null,
      "outputs": [
        {
          "output_type": "execute_result",
          "data": {
            "text/plain": [
              "Region                                      0\n",
              " Date                                       0\n",
              " Frequency                                  0\n",
              " Estimated Unemployment Rate (%)            0\n",
              " Estimated Employed                         0\n",
              " Estimated Labour Participation Rate (%)    0\n",
              "Region.1                                    0\n",
              "longitude                                   0\n",
              "latitude                                    0\n",
              "dtype: int64"
            ]
          },
          "metadata": {},
          "execution_count": 21
        }
      ]
    },
    {
      "cell_type": "markdown",
      "source": [
        "**Handleing missing values in dataset 1**"
      ],
      "metadata": {
        "id": "MWC9eRlUu9jb"
      }
    },
    {
      "cell_type": "code",
      "source": [
        "data1.dropna(inplace=True)"
      ],
      "metadata": {
        "id": "xFGXNWl5K5dR"
      },
      "execution_count": null,
      "outputs": []
    },
    {
      "cell_type": "code",
      "source": [
        "data1.isnull().sum()"
      ],
      "metadata": {
        "colab": {
          "base_uri": "https://localhost:8080/"
        },
        "id": "Rf5IiPduK_AZ",
        "outputId": "2a33752d-49c7-4e21-fce8-ff6cd953fb29"
      },
      "execution_count": null,
      "outputs": [
        {
          "output_type": "execute_result",
          "data": {
            "text/plain": [
              "Region                                      0\n",
              " Date                                       0\n",
              " Frequency                                  0\n",
              " Estimated Unemployment Rate (%)            0\n",
              " Estimated Employed                         0\n",
              " Estimated Labour Participation Rate (%)    0\n",
              "Area                                        0\n",
              "dtype: int64"
            ]
          },
          "metadata": {},
          "execution_count": 23
        }
      ]
    },
    {
      "cell_type": "markdown",
      "source": [
        "**label encoder for dataset 1**"
      ],
      "metadata": {
        "id": "6iIwr0RwvFqL"
      }
    },
    {
      "cell_type": "code",
      "source": [
        "from sklearn.preprocessing import LabelEncoder\n",
        "labelencoder = LabelEncoder()\n",
        "X = data1.iloc[:,6].values\n",
        "data1.iloc[:,6] = labelencoder.fit_transform(X)\n",
        "X = X.reshape(-1,1)"
      ],
      "metadata": {
        "colab": {
          "base_uri": "https://localhost:8080/"
        },
        "id": "-Q0hufjriMXd",
        "outputId": "42a179a4-4be5-4dfd-9e32-55080f1dbcb9"
      },
      "execution_count": null,
      "outputs": [
        {
          "output_type": "stream",
          "name": "stderr",
          "text": [
            "<ipython-input-76-8bb11157326a>:4: DeprecationWarning: In a future version, `df.iloc[:, i] = newvals` will attempt to set the values inplace instead of always setting a new array. To retain the old behavior, use either `df[df.columns[i]] = newvals` or, if columns are non-unique, `df.isetitem(i, newvals)`\n",
            "  data1.iloc[:,6] = labelencoder.fit_transform(X)\n"
          ]
        }
      ]
    },
    {
      "cell_type": "code",
      "source": [
        "data1.tail()"
      ],
      "metadata": {
        "colab": {
          "base_uri": "https://localhost:8080/",
          "height": 206
        },
        "id": "OgJhBqA3inlS",
        "outputId": "5eff589a-5827-46ac-f1b7-b27536be58c1"
      },
      "execution_count": null,
      "outputs": [
        {
          "output_type": "execute_result",
          "data": {
            "text/plain": [
              "          Region         Date  Frequency   Estimated Unemployment Rate (%)  \\\n",
              "749  West Bengal   29-02-2020    Monthly                              7.55   \n",
              "750  West Bengal   31-03-2020    Monthly                              6.67   \n",
              "751  West Bengal   30-04-2020    Monthly                             15.63   \n",
              "752  West Bengal   31-05-2020    Monthly                             15.22   \n",
              "753  West Bengal   30-06-2020    Monthly                              9.86   \n",
              "\n",
              "      Estimated Employed   Estimated Labour Participation Rate (%)  Area  \n",
              "749           10871168.0                                     44.09     1  \n",
              "750           10806105.0                                     43.34     1  \n",
              "751            9299466.0                                     41.20     1  \n",
              "752            9240903.0                                     40.67     1  \n",
              "753            9088931.0                                     37.57     1  "
            ],
            "text/html": [
              "\n",
              "  <div id=\"df-242eae81-2728-4155-a977-fd10490f37fc\">\n",
              "    <div class=\"colab-df-container\">\n",
              "      <div>\n",
              "<style scoped>\n",
              "    .dataframe tbody tr th:only-of-type {\n",
              "        vertical-align: middle;\n",
              "    }\n",
              "\n",
              "    .dataframe tbody tr th {\n",
              "        vertical-align: top;\n",
              "    }\n",
              "\n",
              "    .dataframe thead th {\n",
              "        text-align: right;\n",
              "    }\n",
              "</style>\n",
              "<table border=\"1\" class=\"dataframe\">\n",
              "  <thead>\n",
              "    <tr style=\"text-align: right;\">\n",
              "      <th></th>\n",
              "      <th>Region</th>\n",
              "      <th>Date</th>\n",
              "      <th>Frequency</th>\n",
              "      <th>Estimated Unemployment Rate (%)</th>\n",
              "      <th>Estimated Employed</th>\n",
              "      <th>Estimated Labour Participation Rate (%)</th>\n",
              "      <th>Area</th>\n",
              "    </tr>\n",
              "  </thead>\n",
              "  <tbody>\n",
              "    <tr>\n",
              "      <th>749</th>\n",
              "      <td>West Bengal</td>\n",
              "      <td>29-02-2020</td>\n",
              "      <td>Monthly</td>\n",
              "      <td>7.55</td>\n",
              "      <td>10871168.0</td>\n",
              "      <td>44.09</td>\n",
              "      <td>1</td>\n",
              "    </tr>\n",
              "    <tr>\n",
              "      <th>750</th>\n",
              "      <td>West Bengal</td>\n",
              "      <td>31-03-2020</td>\n",
              "      <td>Monthly</td>\n",
              "      <td>6.67</td>\n",
              "      <td>10806105.0</td>\n",
              "      <td>43.34</td>\n",
              "      <td>1</td>\n",
              "    </tr>\n",
              "    <tr>\n",
              "      <th>751</th>\n",
              "      <td>West Bengal</td>\n",
              "      <td>30-04-2020</td>\n",
              "      <td>Monthly</td>\n",
              "      <td>15.63</td>\n",
              "      <td>9299466.0</td>\n",
              "      <td>41.20</td>\n",
              "      <td>1</td>\n",
              "    </tr>\n",
              "    <tr>\n",
              "      <th>752</th>\n",
              "      <td>West Bengal</td>\n",
              "      <td>31-05-2020</td>\n",
              "      <td>Monthly</td>\n",
              "      <td>15.22</td>\n",
              "      <td>9240903.0</td>\n",
              "      <td>40.67</td>\n",
              "      <td>1</td>\n",
              "    </tr>\n",
              "    <tr>\n",
              "      <th>753</th>\n",
              "      <td>West Bengal</td>\n",
              "      <td>30-06-2020</td>\n",
              "      <td>Monthly</td>\n",
              "      <td>9.86</td>\n",
              "      <td>9088931.0</td>\n",
              "      <td>37.57</td>\n",
              "      <td>1</td>\n",
              "    </tr>\n",
              "  </tbody>\n",
              "</table>\n",
              "</div>\n",
              "      <button class=\"colab-df-convert\" onclick=\"convertToInteractive('df-242eae81-2728-4155-a977-fd10490f37fc')\"\n",
              "              title=\"Convert this dataframe to an interactive table.\"\n",
              "              style=\"display:none;\">\n",
              "        \n",
              "  <svg xmlns=\"http://www.w3.org/2000/svg\" height=\"24px\"viewBox=\"0 0 24 24\"\n",
              "       width=\"24px\">\n",
              "    <path d=\"M0 0h24v24H0V0z\" fill=\"none\"/>\n",
              "    <path d=\"M18.56 5.44l.94 2.06.94-2.06 2.06-.94-2.06-.94-.94-2.06-.94 2.06-2.06.94zm-11 1L8.5 8.5l.94-2.06 2.06-.94-2.06-.94L8.5 2.5l-.94 2.06-2.06.94zm10 10l.94 2.06.94-2.06 2.06-.94-2.06-.94-.94-2.06-.94 2.06-2.06.94z\"/><path d=\"M17.41 7.96l-1.37-1.37c-.4-.4-.92-.59-1.43-.59-.52 0-1.04.2-1.43.59L10.3 9.45l-7.72 7.72c-.78.78-.78 2.05 0 2.83L4 21.41c.39.39.9.59 1.41.59.51 0 1.02-.2 1.41-.59l7.78-7.78 2.81-2.81c.8-.78.8-2.07 0-2.86zM5.41 20L4 18.59l7.72-7.72 1.47 1.35L5.41 20z\"/>\n",
              "  </svg>\n",
              "      </button>\n",
              "      \n",
              "  <style>\n",
              "    .colab-df-container {\n",
              "      display:flex;\n",
              "      flex-wrap:wrap;\n",
              "      gap: 12px;\n",
              "    }\n",
              "\n",
              "    .colab-df-convert {\n",
              "      background-color: #E8F0FE;\n",
              "      border: none;\n",
              "      border-radius: 50%;\n",
              "      cursor: pointer;\n",
              "      display: none;\n",
              "      fill: #1967D2;\n",
              "      height: 32px;\n",
              "      padding: 0 0 0 0;\n",
              "      width: 32px;\n",
              "    }\n",
              "\n",
              "    .colab-df-convert:hover {\n",
              "      background-color: #E2EBFA;\n",
              "      box-shadow: 0px 1px 2px rgba(60, 64, 67, 0.3), 0px 1px 3px 1px rgba(60, 64, 67, 0.15);\n",
              "      fill: #174EA6;\n",
              "    }\n",
              "\n",
              "    [theme=dark] .colab-df-convert {\n",
              "      background-color: #3B4455;\n",
              "      fill: #D2E3FC;\n",
              "    }\n",
              "\n",
              "    [theme=dark] .colab-df-convert:hover {\n",
              "      background-color: #434B5C;\n",
              "      box-shadow: 0px 1px 3px 1px rgba(0, 0, 0, 0.15);\n",
              "      filter: drop-shadow(0px 1px 2px rgba(0, 0, 0, 0.3));\n",
              "      fill: #FFFFFF;\n",
              "    }\n",
              "  </style>\n",
              "\n",
              "      <script>\n",
              "        const buttonEl =\n",
              "          document.querySelector('#df-242eae81-2728-4155-a977-fd10490f37fc button.colab-df-convert');\n",
              "        buttonEl.style.display =\n",
              "          google.colab.kernel.accessAllowed ? 'block' : 'none';\n",
              "\n",
              "        async function convertToInteractive(key) {\n",
              "          const element = document.querySelector('#df-242eae81-2728-4155-a977-fd10490f37fc');\n",
              "          const dataTable =\n",
              "            await google.colab.kernel.invokeFunction('convertToInteractive',\n",
              "                                                     [key], {});\n",
              "          if (!dataTable) return;\n",
              "\n",
              "          const docLinkHtml = 'Like what you see? Visit the ' +\n",
              "            '<a target=\"_blank\" href=https://colab.research.google.com/notebooks/data_table.ipynb>data table notebook</a>'\n",
              "            + ' to learn more about interactive tables.';\n",
              "          element.innerHTML = '';\n",
              "          dataTable['output_type'] = 'display_data';\n",
              "          await google.colab.output.renderOutput(dataTable, element);\n",
              "          const docLink = document.createElement('div');\n",
              "          docLink.innerHTML = docLinkHtml;\n",
              "          element.appendChild(docLink);\n",
              "        }\n",
              "      </script>\n",
              "    </div>\n",
              "  </div>\n",
              "  "
            ]
          },
          "metadata": {},
          "execution_count": 79
        }
      ]
    },
    {
      "cell_type": "code",
      "source": [
        "data1.head()"
      ],
      "metadata": {
        "colab": {
          "base_uri": "https://localhost:8080/",
          "height": 206
        },
        "id": "L4FML1rci0bu",
        "outputId": "7cb1b70d-88cf-456f-b190-e7c30f85dc85"
      },
      "execution_count": null,
      "outputs": [
        {
          "output_type": "execute_result",
          "data": {
            "text/plain": [
              "           Region         Date  Frequency   Estimated Unemployment Rate (%)  \\\n",
              "0  Andhra Pradesh   31-05-2019    Monthly                              3.65   \n",
              "1  Andhra Pradesh   30-06-2019    Monthly                              3.05   \n",
              "2  Andhra Pradesh   31-07-2019    Monthly                              3.75   \n",
              "3  Andhra Pradesh   31-08-2019    Monthly                              3.32   \n",
              "4  Andhra Pradesh   30-09-2019    Monthly                              5.17   \n",
              "\n",
              "    Estimated Employed   Estimated Labour Participation Rate (%)  Area  \n",
              "0           11999139.0                                     43.24     0  \n",
              "1           11755881.0                                     42.05     0  \n",
              "2           12086707.0                                     43.50     0  \n",
              "3           12285693.0                                     43.97     0  \n",
              "4           12256762.0                                     44.68     0  "
            ],
            "text/html": [
              "\n",
              "  <div id=\"df-367415b1-e539-49d1-aae2-7e81c977f44f\">\n",
              "    <div class=\"colab-df-container\">\n",
              "      <div>\n",
              "<style scoped>\n",
              "    .dataframe tbody tr th:only-of-type {\n",
              "        vertical-align: middle;\n",
              "    }\n",
              "\n",
              "    .dataframe tbody tr th {\n",
              "        vertical-align: top;\n",
              "    }\n",
              "\n",
              "    .dataframe thead th {\n",
              "        text-align: right;\n",
              "    }\n",
              "</style>\n",
              "<table border=\"1\" class=\"dataframe\">\n",
              "  <thead>\n",
              "    <tr style=\"text-align: right;\">\n",
              "      <th></th>\n",
              "      <th>Region</th>\n",
              "      <th>Date</th>\n",
              "      <th>Frequency</th>\n",
              "      <th>Estimated Unemployment Rate (%)</th>\n",
              "      <th>Estimated Employed</th>\n",
              "      <th>Estimated Labour Participation Rate (%)</th>\n",
              "      <th>Area</th>\n",
              "    </tr>\n",
              "  </thead>\n",
              "  <tbody>\n",
              "    <tr>\n",
              "      <th>0</th>\n",
              "      <td>Andhra Pradesh</td>\n",
              "      <td>31-05-2019</td>\n",
              "      <td>Monthly</td>\n",
              "      <td>3.65</td>\n",
              "      <td>11999139.0</td>\n",
              "      <td>43.24</td>\n",
              "      <td>0</td>\n",
              "    </tr>\n",
              "    <tr>\n",
              "      <th>1</th>\n",
              "      <td>Andhra Pradesh</td>\n",
              "      <td>30-06-2019</td>\n",
              "      <td>Monthly</td>\n",
              "      <td>3.05</td>\n",
              "      <td>11755881.0</td>\n",
              "      <td>42.05</td>\n",
              "      <td>0</td>\n",
              "    </tr>\n",
              "    <tr>\n",
              "      <th>2</th>\n",
              "      <td>Andhra Pradesh</td>\n",
              "      <td>31-07-2019</td>\n",
              "      <td>Monthly</td>\n",
              "      <td>3.75</td>\n",
              "      <td>12086707.0</td>\n",
              "      <td>43.50</td>\n",
              "      <td>0</td>\n",
              "    </tr>\n",
              "    <tr>\n",
              "      <th>3</th>\n",
              "      <td>Andhra Pradesh</td>\n",
              "      <td>31-08-2019</td>\n",
              "      <td>Monthly</td>\n",
              "      <td>3.32</td>\n",
              "      <td>12285693.0</td>\n",
              "      <td>43.97</td>\n",
              "      <td>0</td>\n",
              "    </tr>\n",
              "    <tr>\n",
              "      <th>4</th>\n",
              "      <td>Andhra Pradesh</td>\n",
              "      <td>30-09-2019</td>\n",
              "      <td>Monthly</td>\n",
              "      <td>5.17</td>\n",
              "      <td>12256762.0</td>\n",
              "      <td>44.68</td>\n",
              "      <td>0</td>\n",
              "    </tr>\n",
              "  </tbody>\n",
              "</table>\n",
              "</div>\n",
              "      <button class=\"colab-df-convert\" onclick=\"convertToInteractive('df-367415b1-e539-49d1-aae2-7e81c977f44f')\"\n",
              "              title=\"Convert this dataframe to an interactive table.\"\n",
              "              style=\"display:none;\">\n",
              "        \n",
              "  <svg xmlns=\"http://www.w3.org/2000/svg\" height=\"24px\"viewBox=\"0 0 24 24\"\n",
              "       width=\"24px\">\n",
              "    <path d=\"M0 0h24v24H0V0z\" fill=\"none\"/>\n",
              "    <path d=\"M18.56 5.44l.94 2.06.94-2.06 2.06-.94-2.06-.94-.94-2.06-.94 2.06-2.06.94zm-11 1L8.5 8.5l.94-2.06 2.06-.94-2.06-.94L8.5 2.5l-.94 2.06-2.06.94zm10 10l.94 2.06.94-2.06 2.06-.94-2.06-.94-.94-2.06-.94 2.06-2.06.94z\"/><path d=\"M17.41 7.96l-1.37-1.37c-.4-.4-.92-.59-1.43-.59-.52 0-1.04.2-1.43.59L10.3 9.45l-7.72 7.72c-.78.78-.78 2.05 0 2.83L4 21.41c.39.39.9.59 1.41.59.51 0 1.02-.2 1.41-.59l7.78-7.78 2.81-2.81c.8-.78.8-2.07 0-2.86zM5.41 20L4 18.59l7.72-7.72 1.47 1.35L5.41 20z\"/>\n",
              "  </svg>\n",
              "      </button>\n",
              "      \n",
              "  <style>\n",
              "    .colab-df-container {\n",
              "      display:flex;\n",
              "      flex-wrap:wrap;\n",
              "      gap: 12px;\n",
              "    }\n",
              "\n",
              "    .colab-df-convert {\n",
              "      background-color: #E8F0FE;\n",
              "      border: none;\n",
              "      border-radius: 50%;\n",
              "      cursor: pointer;\n",
              "      display: none;\n",
              "      fill: #1967D2;\n",
              "      height: 32px;\n",
              "      padding: 0 0 0 0;\n",
              "      width: 32px;\n",
              "    }\n",
              "\n",
              "    .colab-df-convert:hover {\n",
              "      background-color: #E2EBFA;\n",
              "      box-shadow: 0px 1px 2px rgba(60, 64, 67, 0.3), 0px 1px 3px 1px rgba(60, 64, 67, 0.15);\n",
              "      fill: #174EA6;\n",
              "    }\n",
              "\n",
              "    [theme=dark] .colab-df-convert {\n",
              "      background-color: #3B4455;\n",
              "      fill: #D2E3FC;\n",
              "    }\n",
              "\n",
              "    [theme=dark] .colab-df-convert:hover {\n",
              "      background-color: #434B5C;\n",
              "      box-shadow: 0px 1px 3px 1px rgba(0, 0, 0, 0.15);\n",
              "      filter: drop-shadow(0px 1px 2px rgba(0, 0, 0, 0.3));\n",
              "      fill: #FFFFFF;\n",
              "    }\n",
              "  </style>\n",
              "\n",
              "      <script>\n",
              "        const buttonEl =\n",
              "          document.querySelector('#df-367415b1-e539-49d1-aae2-7e81c977f44f button.colab-df-convert');\n",
              "        buttonEl.style.display =\n",
              "          google.colab.kernel.accessAllowed ? 'block' : 'none';\n",
              "\n",
              "        async function convertToInteractive(key) {\n",
              "          const element = document.querySelector('#df-367415b1-e539-49d1-aae2-7e81c977f44f');\n",
              "          const dataTable =\n",
              "            await google.colab.kernel.invokeFunction('convertToInteractive',\n",
              "                                                     [key], {});\n",
              "          if (!dataTable) return;\n",
              "\n",
              "          const docLinkHtml = 'Like what you see? Visit the ' +\n",
              "            '<a target=\"_blank\" href=https://colab.research.google.com/notebooks/data_table.ipynb>data table notebook</a>'\n",
              "            + ' to learn more about interactive tables.';\n",
              "          element.innerHTML = '';\n",
              "          dataTable['output_type'] = 'display_data';\n",
              "          await google.colab.output.renderOutput(dataTable, element);\n",
              "          const docLink = document.createElement('div');\n",
              "          docLink.innerHTML = docLinkHtml;\n",
              "          element.appendChild(docLink);\n",
              "        }\n",
              "      </script>\n",
              "    </div>\n",
              "  </div>\n",
              "  "
            ]
          },
          "metadata": {},
          "execution_count": 81
        }
      ]
    },
    {
      "cell_type": "code",
      "source": [
        " data1['Area']\n"
      ],
      "metadata": {
        "colab": {
          "base_uri": "https://localhost:8080/"
        },
        "id": "MgOZk07kjRxZ",
        "outputId": "2f606add-54ab-4e69-a0af-d0e1a99ec321"
      },
      "execution_count": null,
      "outputs": [
        {
          "output_type": "execute_result",
          "data": {
            "text/plain": [
              "0      0\n",
              "1      0\n",
              "2      0\n",
              "3      0\n",
              "4      0\n",
              "      ..\n",
              "749    1\n",
              "750    1\n",
              "751    1\n",
              "752    1\n",
              "753    1\n",
              "Name: Area, Length: 740, dtype: int64"
            ]
          },
          "metadata": {},
          "execution_count": 90
        }
      ]
    },
    {
      "cell_type": "markdown",
      "source": [
        "**Visulization of dataset 1** using barplot"
      ],
      "metadata": {
        "id": "E7Vhg_eyvVWD"
      }
    },
    {
      "cell_type": "markdown",
      "source": [
        "**1** Area vs Estimated Unemployment Rate (%)"
      ],
      "metadata": {
        "id": "JEjE6KzqvmnZ"
      }
    },
    {
      "cell_type": "code",
      "source": [
        "region_unemployment = data1.groupby('Area')[' Estimated Unemployment Rate (%)'].mean()\n",
        "region_unemployment.plot(kind='bar')\n",
        "plt.xlabel(\"Rural                                              Urban\")\n",
        "plt.ylabel(\"Estimated Unemployment Rate (%)\")\n",
        "plt.show()"
      ],
      "metadata": {
        "colab": {
          "base_uri": "https://localhost:8080/",
          "height": 444
        },
        "id": "n0Bh9MUTjgTg",
        "outputId": "b710a535-82d1-47ee-f3d0-c27ec6afb7dc"
      },
      "execution_count": null,
      "outputs": [
        {
          "output_type": "display_data",
          "data": {
            "text/plain": [
              "<Figure size 640x480 with 1 Axes>"
            ],
            "image/png": "[encoded data removed]"
          },
          "metadata": {}
        }
      ]
    },
    {
      "cell_type": "markdown",
      "source": [
        "**2** Area vs Estimated Employed"
      ],
      "metadata": {
        "id": "Fl7qtdcXvzdi"
      }
    },
    {
      "cell_type": "code",
      "source": [
        "region_unemployment = data1.groupby('Area')[' Estimated Employed'].mean()\n",
        "region_unemployment.plot(kind='bar')\n",
        "plt.xlabel(\"Rural                                              Urban\")\n",
        "plt.ylabel(\"Estimated Employed\")\n",
        "plt.show()"
      ],
      "metadata": {
        "colab": {
          "base_uri": "https://localhost:8080/",
          "height": 459
        },
        "id": "wERq05yEkYcv",
        "outputId": "303deb82-aa12-47c0-c4b7-27b04c2f9566"
      },
      "execution_count": null,
      "outputs": [
        {
          "output_type": "display_data",
          "data": {
            "text/plain": [
              "<Figure size 640x480 with 1 Axes>"
            ],
            "image/png": "[encoded data removed]"
          },
          "metadata": {}
        }
      ]
    },
    {
      "cell_type": "markdown",
      "source": [
        "**3** Area vs Estimated Labour Participation Rate (%)"
      ],
      "metadata": {
        "id": "Nxah4WwLv2r_"
      }
    },
    {
      "cell_type": "code",
      "source": [
        "region_unemployment = data1.groupby('Area')[' Estimated Labour Participation Rate (%)'].mean()\n",
        "region_unemployment.plot(kind='bar')\n",
        "plt.xlabel(\"Rural                                              Urban\")\n",
        "plt.ylabel(\"Estimated Labour Participation Rate (%)\")\n",
        "plt.show()\n"
      ],
      "metadata": {
        "colab": {
          "base_uri": "https://localhost:8080/",
          "height": 444
        },
        "id": "Epp5NSfnkj_A",
        "outputId": "7df81a1e-d711-4c68-f944-7a0237dda6dc"
      },
      "execution_count": null,
      "outputs": [
        {
          "output_type": "display_data",
          "data": {
            "text/plain": [
              "<Figure size 640x480 with 1 Axes>"
            ],
            "image/png": "[encoded data removed]"
          },
          "metadata": {}
        }
      ]
    },
    {
      "cell_type": "markdown",
      "source": [
        "**Visulization of dataset 2**"
      ],
      "metadata": {
        "id": "DN9yEDmCwTjG"
      }
    },
    {
      "cell_type": "code",
      "source": [
        "data2.head()"
      ],
      "metadata": {
        "colab": {
          "base_uri": "https://localhost:8080/",
          "height": 206
        },
        "id": "ilLFNx2NsuTJ",
        "outputId": "4799ef59-82e6-4759-99e5-54192bda24b3"
      },
      "execution_count": null,
      "outputs": [
        {
          "output_type": "execute_result",
          "data": {
            "text/plain": [
              "           Region         Date  Frequency   Estimated Unemployment Rate (%)  \\\n",
              "0  Andhra Pradesh   31-01-2020          M                              5.48   \n",
              "1  Andhra Pradesh   29-02-2020          M                              5.83   \n",
              "2  Andhra Pradesh   31-03-2020          M                              5.79   \n",
              "3  Andhra Pradesh   30-04-2020          M                             20.51   \n",
              "4  Andhra Pradesh   31-05-2020          M                             17.43   \n",
              "\n",
              "    Estimated Employed   Estimated Labour Participation Rate (%) Region.1  \\\n",
              "0             16635535                                     41.02    South   \n",
              "1             16545652                                     40.90    South   \n",
              "2             15881197                                     39.18    South   \n",
              "3             11336911                                     33.10    South   \n",
              "4             12988845                                     36.46    South   \n",
              "\n",
              "   longitude  latitude  \n",
              "0    15.9129     79.74  \n",
              "1    15.9129     79.74  \n",
              "2    15.9129     79.74  \n",
              "3    15.9129     79.74  \n",
              "4    15.9129     79.74  "
            ],
            "text/html": [
              "\n",
              "  <div id=\"df-d1293a0d-7bd2-4d60-9a31-05f291ccd988\">\n",
              "    <div class=\"colab-df-container\">\n",
              "      <div>\n",
              "<style scoped>\n",
              "    .dataframe tbody tr th:only-of-type {\n",
              "        vertical-align: middle;\n",
              "    }\n",
              "\n",
              "    .dataframe tbody tr th {\n",
              "        vertical-align: top;\n",
              "    }\n",
              "\n",
              "    .dataframe thead th {\n",
              "        text-align: right;\n",
              "    }\n",
              "</style>\n",
              "<table border=\"1\" class=\"dataframe\">\n",
              "  <thead>\n",
              "    <tr style=\"text-align: right;\">\n",
              "      <th></th>\n",
              "      <th>Region</th>\n",
              "      <th>Date</th>\n",
              "      <th>Frequency</th>\n",
              "      <th>Estimated Unemployment Rate (%)</th>\n",
              "      <th>Estimated Employed</th>\n",
              "      <th>Estimated Labour Participation Rate (%)</th>\n",
              "      <th>Region.1</th>\n",
              "      <th>longitude</th>\n",
              "      <th>latitude</th>\n",
              "    </tr>\n",
              "  </thead>\n",
              "  <tbody>\n",
              "    <tr>\n",
              "      <th>0</th>\n",
              "      <td>Andhra Pradesh</td>\n",
              "      <td>31-01-2020</td>\n",
              "      <td>M</td>\n",
              "      <td>5.48</td>\n",
              "      <td>16635535</td>\n",
              "      <td>41.02</td>\n",
              "      <td>South</td>\n",
              "      <td>15.9129</td>\n",
              "      <td>79.74</td>\n",
              "    </tr>\n",
              "    <tr>\n",
              "      <th>1</th>\n",
              "      <td>Andhra Pradesh</td>\n",
              "      <td>29-02-2020</td>\n",
              "      <td>M</td>\n",
              "      <td>5.83</td>\n",
              "      <td>16545652</td>\n",
              "      <td>40.90</td>\n",
              "      <td>South</td>\n",
              "      <td>15.9129</td>\n",
              "      <td>79.74</td>\n",
              "    </tr>\n",
              "    <tr>\n",
              "      <th>2</th>\n",
              "      <td>Andhra Pradesh</td>\n",
              "      <td>31-03-2020</td>\n",
              "      <td>M</td>\n",
              "      <td>5.79</td>\n",
              "      <td>15881197</td>\n",
              "      <td>39.18</td>\n",
              "      <td>South</td>\n",
              "      <td>15.9129</td>\n",
              "      <td>79.74</td>\n",
              "    </tr>\n",
              "    <tr>\n",
              "      <th>3</th>\n",
              "      <td>Andhra Pradesh</td>\n",
              "      <td>30-04-2020</td>\n",
              "      <td>M</td>\n",
              "      <td>20.51</td>\n",
              "      <td>11336911</td>\n",
              "      <td>33.10</td>\n",
              "      <td>South</td>\n",
              "      <td>15.9129</td>\n",
              "      <td>79.74</td>\n",
              "    </tr>\n",
              "    <tr>\n",
              "      <th>4</th>\n",
              "      <td>Andhra Pradesh</td>\n",
              "      <td>31-05-2020</td>\n",
              "      <td>M</td>\n",
              "      <td>17.43</td>\n",
              "      <td>12988845</td>\n",
              "      <td>36.46</td>\n",
              "      <td>South</td>\n",
              "      <td>15.9129</td>\n",
              "      <td>79.74</td>\n",
              "    </tr>\n",
              "  </tbody>\n",
              "</table>\n",
              "</div>\n",
              "      <button class=\"colab-df-convert\" onclick=\"convertToInteractive('df-d1293a0d-7bd2-4d60-9a31-05f291ccd988')\"\n",
              "              title=\"Convert this dataframe to an interactive table.\"\n",
              "              style=\"display:none;\">\n",
              "        \n",
              "  <svg xmlns=\"http://www.w3.org/2000/svg\" height=\"24px\"viewBox=\"0 0 24 24\"\n",
              "       width=\"24px\">\n",
              "    <path d=\"M0 0h24v24H0V0z\" fill=\"none\"/>\n",
              "    <path d=\"M18.56 5.44l.94 2.06.94-2.06 2.06-.94-2.06-.94-.94-2.06-.94 2.06-2.06.94zm-11 1L8.5 8.5l.94-2.06 2.06-.94-2.06-.94L8.5 2.5l-.94 2.06-2.06.94zm10 10l.94 2.06.94-2.06 2.06-.94-2.06-.94-.94-2.06-.94 2.06-2.06.94z\"/><path d=\"M17.41 7.96l-1.37-1.37c-.4-.4-.92-.59-1.43-.59-.52 0-1.04.2-1.43.59L10.3 9.45l-7.72 7.72c-.78.78-.78 2.05 0 2.83L4 21.41c.39.39.9.59 1.41.59.51 0 1.02-.2 1.41-.59l7.78-7.78 2.81-2.81c.8-.78.8-2.07 0-2.86zM5.41 20L4 18.59l7.72-7.72 1.47 1.35L5.41 20z\"/>\n",
              "  </svg>\n",
              "      </button>\n",
              "      \n",
              "  <style>\n",
              "    .colab-df-container {\n",
              "      display:flex;\n",
              "      flex-wrap:wrap;\n",
              "      gap: 12px;\n",
              "    }\n",
              "\n",
              "    .colab-df-convert {\n",
              "      background-color: #E8F0FE;\n",
              "      border: none;\n",
              "      border-radius: 50%;\n",
              "      cursor: pointer;\n",
              "      display: none;\n",
              "      fill: #1967D2;\n",
              "      height: 32px;\n",
              "      padding: 0 0 0 0;\n",
              "      width: 32px;\n",
              "    }\n",
              "\n",
              "    .colab-df-convert:hover {\n",
              "      background-color: #E2EBFA;\n",
              "      box-shadow: 0px 1px 2px rgba(60, 64, 67, 0.3), 0px 1px 3px 1px rgba(60, 64, 67, 0.15);\n",
              "      fill: #174EA6;\n",
              "    }\n",
              "\n",
              "    [theme=dark] .colab-df-convert {\n",
              "      background-color: #3B4455;\n",
              "      fill: #D2E3FC;\n",
              "    }\n",
              "\n",
              "    [theme=dark] .colab-df-convert:hover {\n",
              "      background-color: #434B5C;\n",
              "      box-shadow: 0px 1px 3px 1px rgba(0, 0, 0, 0.15);\n",
              "      filter: drop-shadow(0px 1px 2px rgba(0, 0, 0, 0.3));\n",
              "      fill: #FFFFFF;\n",
              "    }\n",
              "  </style>\n",
              "\n",
              "      <script>\n",
              "        const buttonEl =\n",
              "          document.querySelector('#df-d1293a0d-7bd2-4d60-9a31-05f291ccd988 button.colab-df-convert');\n",
              "        buttonEl.style.display =\n",
              "          google.colab.kernel.accessAllowed ? 'block' : 'none';\n",
              "\n",
              "        async function convertToInteractive(key) {\n",
              "          const element = document.querySelector('#df-d1293a0d-7bd2-4d60-9a31-05f291ccd988');\n",
              "          const dataTable =\n",
              "            await google.colab.kernel.invokeFunction('convertToInteractive',\n",
              "                                                     [key], {});\n",
              "          if (!dataTable) return;\n",
              "\n",
              "          const docLinkHtml = 'Like what you see? Visit the ' +\n",
              "            '<a target=\"_blank\" href=https://colab.research.google.com/notebooks/data_table.ipynb>data table notebook</a>'\n",
              "            + ' to learn more about interactive tables.';\n",
              "          element.innerHTML = '';\n",
              "          dataTable['output_type'] = 'display_data';\n",
              "          await google.colab.output.renderOutput(dataTable, element);\n",
              "          const docLink = document.createElement('div');\n",
              "          docLink.innerHTML = docLinkHtml;\n",
              "          element.appendChild(docLink);\n",
              "        }\n",
              "      </script>\n",
              "    </div>\n",
              "  </div>\n",
              "  "
            ]
          },
          "metadata": {},
          "execution_count": 139
        }
      ]
    },
    {
      "cell_type": "markdown",
      "source": [
        "**1** Region1 vs Estimated Unemployment Rate (%)"
      ],
      "metadata": {
        "id": "5QBjm9ZAwZsU"
      }
    },
    {
      "cell_type": "code",
      "source": [
        "\n",
        "df = pd.DataFrame(data2)\n",
        "price = df['Region.1'].head(268)\n",
        "name = df[' Estimated Unemployment Rate (%)'].head(268)\n",
        "fig = plt.figure(figsize =(10, 5))\n",
        "\n",
        "plt.bar( price[0:200],name[0:200])\n",
        "plt.show()"
      ],
      "metadata": {
        "colab": {
          "base_uri": "https://localhost:8080/",
          "height": 445
        },
        "id": "eoDwQu62o0h9",
        "outputId": "bd271736-8703-4b41-8729-c7795553f38a"
      },
      "execution_count": null,
      "outputs": [
        {
          "output_type": "display_data",
          "data": {
            "text/plain": [
              "<Figure size 1000x500 with 1 Axes>"
            ],
            "image/png": "[encoded data removed]"
          },
          "metadata": {}
        }
      ]
    },
    {
      "cell_type": "markdown",
      "source": [
        "**2** Region1 vs Estimated Employed"
      ],
      "metadata": {
        "id": "lIyl3HXMwl7u"
      }
    },
    {
      "cell_type": "code",
      "source": [
        "\n",
        "df = pd.DataFrame(data2)\n",
        "price = df['Region.1'].head(268)\n",
        "name = df[' Estimated Employed'].head(268)\n",
        "fig = plt.figure(figsize =(10, 5))\n",
        "\n",
        "plt.bar( price[0:200],name[0:200])\n",
        "plt.show()"
      ],
      "metadata": {
        "colab": {
          "base_uri": "https://localhost:8080/",
          "height": 460
        },
        "id": "kT7YBwZIs7Zc",
        "outputId": "ba67eec3-3555-4dc4-9973-05645ad1f9bd"
      },
      "execution_count": null,
      "outputs": [
        {
          "output_type": "display_data",
          "data": {
            "text/plain": [
              "<Figure size 1000x500 with 1 Axes>"
            ],
            "image/png": "[encoded data removed]"
          },
          "metadata": {}
        }
      ]
    },
    {
      "cell_type": "markdown",
      "source": [
        "**3** Region1 vs Estimated Labour Participation Rate (%)"
      ],
      "metadata": {
        "id": "iEJc2d8hwp3K"
      }
    },
    {
      "cell_type": "code",
      "source": [
        "df = pd.DataFrame(data2)\n",
        "price = df['Region.1'].head(268)\n",
        "name = df[' Estimated Labour Participation Rate (%)'].head(268)\n",
        "fig = plt.figure(figsize =(10, 5))\n",
        "\n",
        "plt.bar( price[0:200],name[0:200])\n",
        "plt.show()"
      ],
      "metadata": {
        "colab": {
          "base_uri": "https://localhost:8080/",
          "height": 445
        },
        "id": "6ChPuwsPtQNb",
        "outputId": "4be1d312-8b16-4874-cb15-44795245e8d6"
      },
      "execution_count": null,
      "outputs": [
        {
          "output_type": "display_data",
          "data": {
            "text/plain": [
              "<Figure size 1000x500 with 1 Axes>"
            ],
            "image/png": "[encoded data removed]"
          },
          "metadata": {}
        }
      ]
    },
    {
      "cell_type": "markdown",
      "source": [
        "Conclution :-\n",
        "\n",
        "Dataset 1 :\n",
        "\n",
        "With the help of dataset 1 we able to analyse the amount employment and unemployment in rural and urban areas.\n",
        "\n",
        "where,\n",
        "\n",
        "Rural area had high **Estimated Employed** person then urban also\n",
        " **high Estimated Labour Participation Rate** then urban area.\n",
        "\n",
        "while\n",
        "\n",
        "urban area had high **Estimated Unemployment Rate** as compared to rural area.\n",
        "\n",
        "Dataset 2 :\n",
        "\n",
        "With the help of dataset 2 we able to analyse the amount employment and unemployment in diffrent Regions.\n",
        "\n",
        "where,\n",
        "\n",
        "South had high **Estimated Unemployment Rate**,\n",
        "\n",
        "west  had high **Estimated Employed**,\n",
        "\n",
        "northeast had **high Estimated Labour Participation Rate**.\n"
      ],
      "metadata": {
        "id": "55t-WL0dw-Ap"
      }
    }
  ]
}